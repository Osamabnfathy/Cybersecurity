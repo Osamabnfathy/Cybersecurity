{
 "cells": [
  {
   "cell_type": "markdown",
   "metadata": {},
   "source": [
    "# Chapter 1: \"Intorduction to TCP IP Networking\"\n",
    "\n",
    ">> TCP/IP Model:\n",
    "   - Application Layer\n",
    "   - Transport Layer (L4 - Segmants) \"Add Port Header\"\n",
    "   - Network Layer (L3 - Routing - Packets) \"Add IPs Header\"\n",
    "   - Data Link Layer (L2 - Frames) \"Add MACs Header and Trailer\"\n",
    "   - Physical Layer "
   ]
  },
  {
   "cell_type": "markdown",
   "metadata": {},
   "source": [
    "---------------------------------------------------------------------------"
   ]
  },
  {
   "cell_type": "markdown",
   "metadata": {},
   "source": [
    "#  Chapter 2: \"Ethernet\"\n",
    "\n",
    ">> Straight Through and Crossover Cables:\n",
    "   - We install cables in Straight Through Mode with different Devices Connections (Router to Switch - Swithc to Device)\n",
    "   - We install Cable in Crossover Mode with Same Devices Connections (Router to Router - Switch to Switch)\n",
    " \n",
    "\n",
    ">> T568A and R568B:\n",
    "   - T568A:\n",
    "     - White Green\n",
    "     - Green\n",
    "     - White Orange\n",
    "     - Blue\n",
    "     - White Blue\n",
    "     - Orange\n",
    "     - White Brown\n",
    "     - Brown\n",
    "\n",
    "   - T568B:\n",
    "     - White Orange\n",
    "     - Orange\n",
    "     - White Green\n",
    "     - Blue\n",
    "     - White Blue\n",
    "     - Green\n",
    "     - White Brown\n",
    "     - Brown\n",
    "\n",
    "\n",
    ">> Ethernet Frame Format:\n",
    "   - Header:\n",
    "     - Preamble (Pattern of 0s and 1s) (7 Bytes) | Start of Frame\n",
    "     - Start of Frame Delimiter (SFD) (1 Byte) | Start of Frame\n",
    "     - Destination MAC (6 Bytes)\n",
    "     - Source MAC (6 Bytes)\n",
    "     - Type of protocol (2 Bytes)\n",
    "\n",
    "   - Data\n",
    "     -Data and Pad (46 - 1500 Bytes)\n",
    "   \n",
    "   - Trailer\n",
    "     - Frame Check Sequence (FCS) (4 Bytes)"
   ]
  },
  {
   "cell_type": "markdown",
   "metadata": {},
   "source": [
    "--------------------------------------------------------------------------------------------------"
   ]
  },
  {
   "cell_type": "markdown",
   "metadata": {},
   "source": [
    "# Chapter 3: \"WAN & IP Routing\"\n",
    "\n",
    ">> Header Changing in Sending Traffic from LAN to other LAN:\n",
    "   - In Sender Device the Header is:\n",
    "     - Src MAC: Sender MAC\n",
    "     - Dest MAC: R1 (Default Getway OR Router MAC)\n",
    "     - Src IP: Sender IP\n",
    "     - Dest IP: Receiver IP\n",
    "\n",
    "   - In Router 1 the Header is changed:\n",
    "     - Src MAC: R1 (Router MAC)\n",
    "     - Dest MAC: R2 (Router MAC)\n",
    "     - Src IP: Sender IP\n",
    "     - Dest IP: Receiver IP\n",
    "\n",
    "   - In Router 2 the Header is Changed again:\n",
    "     - Src MAC: R2 (Router MAC)\n",
    "     - Dest MAC: Receiver MAC\n",
    "     - Src IP: Sender IP\n",
    "     - Dest IP: Receiver IP\n",
    "     \n",
    "\n",
    ">> Routing Protocols:\n",
    "   - Each Router adds a route to its routing table if it connected directly\n",
    "   - Each Router's routing protocol tells its neighbor about the routers in its routing table\n",
    "\n",
    "\n",
    ">> If we have 3 Routers (R1 - R2 - R3) \"Routing Protocols Advertise\":\n",
    "   - R3 connected to PC2\n",
    "   - R1 connected to PC1 and PC11\n",
    "   - R2 IP: 150.150.2.7\n",
    "   - R3 IP: 150.150.3.1\n",
    "   - R3 Routing Table (Subnet: 150.150.4.0 - Interface: G0/0 - Next Hop: N/A)\n",
    "   - R2 Routing Table (Subnet: 150.150.4.0 - Interface: F0/0 - Next Hop: 150.150.3.1)\n",
    "   - R1 Routing Table (Subnet: 150.150.4.0 - Interface: S0 - Next Hop: 150.150.2.7)"
   ]
  },
  {
   "cell_type": "markdown",
   "metadata": {},
   "source": [
    "----------------------------------------------------------------------------------------"
   ]
  },
  {
   "cell_type": "markdown",
   "metadata": {},
   "source": [
    "# Chapter 4: \"Using CLI\"\n",
    "\n",
    "> We use Terminal Emulator like \"Xshell\"\n",
    "\n",
    ">> In CLI in the Switch:\n",
    "   - (command ?) to show Help\n",
    "   \n",
    "   - (enable) to change from User mode to Enable mode \n",
    "   - (disable) to go from Enable mode to User mode\n",
    "   \n",
    "   - All show commands done in Enable mode\n",
    "   - (show running-config) to Show current operating configuration\n",
    "   - (show mac-address-table) to show MAC forwarding table\n",
    "   - \n",
    "   - (reload) to Restart the Switch\n",
    "   \n",
    "   - All configuration commands done in Configuration mode\n",
    "   - (conf t) to go from Enable mode to Configuration mode\n",
    "   - (end OR Ctl+Z) to go from Configuration mode to Enable mode\n",
    "   - (hostname wanted_name) to change the hostname of the switch\n",
    "   - (copy running-config startup-config) to save changes to NVRAM\n",
    "   - (Erase startup-config - Erase nvram - Write erase) to Erase configurations\n",
    "\n",
    "   - Configuration modes\n",
    "   - from configuration mode you can go to these modes\n",
    "   - hostname(config)# \"This is the Global mode\"\n",
    "   - (line console 0) > to go to Console line mode\n",
    "   - hostname(config-line)# \"This is the Line mode\"\n",
    "   - (interface num) > to go to interface mode\n",
    "   - hostname(config-if)# \"This in the Interface mode\"\n",
    "   - (valn x) > to go to VLAN mode\n",
    "   - hostname(vlan)# \"This is the VLAN mode\""
   ]
  },
  {
   "cell_type": "markdown",
   "metadata": {},
   "source": [
    "---------------------------------------------------------------------------------------"
   ]
  },
  {
   "cell_type": "markdown",
   "metadata": {},
   "source": [
    "# Chapter 5: \"Switching concepts\"\n",
    "\n",
    ">> Forwarding logic:\n",
    "   - Switches froward frames based on the Dest MAC\n",
    "   - Swtiches examine the source MAC and note the interface and table it\n",
    "   - Switches use STP to prevent loops \n",
    "\n",
    "\n",
    ">> Some Commands:\n",
    "   - (show interface status) to show connected interfaces and some data\n",
    "   - (show interface f0/1 counters) to show how many (bytes - packets) pass the interface\n",
    "   - (show mac address-table dynamic address MAC_address) to show its port\n",
    "   - (show mac address-table dynamic interface Interface_name) to show the linked device's MAC\n",
    "   - (show mac address-table dynamic vlan NUM_of_vlan) to show MACs in this VLAn\n",
    "   - (show mac adress-table count) to show Num of connected devices\n",
    "   "
   ]
  },
  {
   "cell_type": "markdown",
   "metadata": {},
   "source": [
    "------------------------------------------------------------------------------------------------------------------"
   ]
  },
  {
   "cell_type": "markdown",
   "metadata": {},
   "source": [
    "# Chapter 6: \"Switches basic configuration\"\n",
    "\n",
    ">> Security concepts in Switches:\n",
    "   - To go to User Mode we put 2 Passwords:\n",
    "     - We put Console Password\n",
    "     - OR VTY Password for Remote Access (Telnet - SSH)\n",
    "   \n",
    "   - To go from User mode to Enable mode:\n",
    "     - We put Enable Password\n",
    "\n",
    "   - IMP (These password Can be cracked)\n",
    "   - (show run) show you all data and passwords\n",
    "   - (service password-encryption) to hide the passwords, put can be cracked\n",
    "   - The Best Solution is to put (User and Pass)\n",
    "\n",
    "\n",
    ">> Make password to the Console: (Not Recommended)\n",
    "   - open CLI in the Switch\n",
    "   - (en) to go to Enable mode\n",
    "   - (conf t) to go to Configuration Terminal\n",
    "   - (password \"Pass\") to Make a password for the Console\n",
    "   - (login) to enable the password\n",
    "   - (exit) to exit\n",
    "   - (no password) to remove the password\n",
    "   - IMP (login local) to enable the User and Password if you have \n",
    "\n",
    "\n",
    ">> Make password to the Enable mode: (Not Recommended)\n",
    "   - Open CLI in the Switch\n",
    "   - (en) to go to Enable mode\n",
    "   - (conf t) to go to Configuration Terminal\n",
    "   - (enable password \"Pass\") to make a password for the Enable mode\n",
    "   - (exit) to exit\n",
    "   - (no enable password) to remove the password\n",
    "\n",
    "\n",
    ">> How to open Telnet: (Not Recommended)\n",
    "   - Open CLI in the Switch\n",
    "   - (en) to go to Enable mode\n",
    "   - (conf t) to go to Configuration Terminal\n",
    "   - (line vty 0 15) to open Telnet\n",
    "   - (Password \"Pass\") to make a password for the Telnet\n",
    "   - (login) to enable the password\n",
    "   - (exit) to exit\n",
    "   - (no password) to remove the password\n",
    "   - IMP (login local) to enable the User and Password if you have \n",
    "\n",
    "\n",
    ">> How to put Encrypted passwords: (Not Recommended)\n",
    "   - Open CLI in the Switch\n",
    "   - (en) to go to Enable mode\n",
    "   - (enable secret \"pass\") to put an Encrypted password to Enable mode\n",
    "\n",
    "\n",
    ">> How to Make User and Password to Enable mode: (Very Recommended)\n",
    "   - Open CLI in the Switch\n",
    "   - (en) to go to Enable mode\n",
    "   - (conf t) to go to Configuration Terminal\n",
    "   - (username \"Name\" secret \"Pass\") to make a User and a Password\n",
    "   \n",
    "   - (line console 0) to go to Line console mode\n",
    "   - IMP (login local) to enable the User and Password to Console\n",
    "\n",
    "   - (line vty 0 15) to open Telnet\n",
    "   - IMP (login local) to enable the User and Password to Telnet \n",
    "\n",
    "\n",
    ">> How to Enable SSH After the User and Password:\n",
    "   - Open CLI in the Switch\n",
    "   - (en) to go to Enable mode\n",
    "   - (conf t) to go to Configuration Terminal\n",
    "   - (ip domain-name \"Domain_name\") to Put a domain name\n",
    "   - (crypto key generate rsa) to encrypt the SSH\n",
    "   - (line vty 0 15) to open Telnet\n",
    "   - (transport input none) to close all connections\n",
    "   - (transport input ssh) to enable SSH only"
   ]
  },
  {
   "cell_type": "markdown",
   "metadata": {},
   "source": [
    "---------------------------------------------------------------------------------------------"
   ]
  },
  {
   "cell_type": "markdown",
   "metadata": {},
   "source": [
    "# Chapter 7: \"Switches interfaces configurations\"\n",
    "\n",
    ">> Show interfaces data:\n",
    "   - Open CLI in the Switch\n",
    "   - (en) to go to Enalbe mode\n",
    "   - (show ip interface brief) to show all data\n",
    "   - (show interfaces status) to show all data\n",
    "   - (show inter f0/1) to show data about this port\n",
    "\n",
    "   - (conf t) to go to Configuration Terminal\n",
    "   - (inter f0/1) to choose interface\n",
    "   - (description \"Describe_Port\") to type a description\n",
    "   - (duplex \"auto\") to choose between Full and Half\n",
    "   - (speed \"auto\") to choose between speeds\n",
    "   - (shutdown) to shutdown the port\n",
    "   - (no shut) to open the port"
   ]
  },
  {
   "cell_type": "markdown",
   "metadata": {},
   "source": [
    "------------------------------------------------------------------------------------------------------------------"
   ]
  },
  {
   "cell_type": "markdown",
   "metadata": {},
   "source": [
    "# Chapter 8: \"\"\n",
    "\n",
    "> (show vlan brief) show VALNs and its ports\n",
    "\n",
    "> (show vlan id 2) show specific VLAN\n",
    "\n",
    ">> Create VLAN:\n",
    "   - Open CLI in the switch\n",
    "   - (en) to go to Enable mode\n",
    "   - (conf t) to go to Configuration Terminal\n",
    "   - (valn NUM) to create a VLAN \n",
    "   - (name vlan_name) to give it a name\n",
    "   - (interface range rastethernet 0/num - num) to assign ports to the vlan\n",
    "   - (switchport access vlan NUM)\n",
    "   - (switchport mode access)\n",
    "   - (end)"
   ]
  },
  {
   "cell_type": "markdown",
   "metadata": {},
   "source": [
    "------------------------------------------------------------------------------------------------"
   ]
  },
  {
   "cell_type": "markdown",
   "metadata": {},
   "source": [
    "NOT COMPLETED !!"
   ]
  }
 ],
 "metadata": {
  "language_info": {
   "name": "python"
  },
  "orig_nbformat": 4
 },
 "nbformat": 4,
 "nbformat_minor": 2
}
