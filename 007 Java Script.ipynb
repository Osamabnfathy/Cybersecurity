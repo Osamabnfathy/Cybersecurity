{
 "cells": [
  {
   "cell_type": "code",
   "execution_count": null,
   "metadata": {
    "vscode": {
     "languageId": "html"
    }
   },
   "outputs": [],
   "source": [
    "<!-- \n",
    "  Declearing a variable\n",
    "  Get the type of the variable\n",
    "  Get the length of the variable\n",
    "  Printing more than one variable in one line code\n",
    "  toUpperCase method\n",
    "-->\n",
    "\n",
    "<!DOCTYPE html>\n",
    "<html lang=\"en\">\n",
    "  <head>\n",
    "    <meta charset=\"UTF-8\">\n",
    "    <title>Test Java Script</title>\n",
    "  </head>\n",
    "  <body>\n",
    "    <script>\n",
    "      var username = 'User';\n",
    "      var age = 20;\n",
    "      document.write(typeof(username) + \"<br>\");\n",
    "      document.write(username.length  + \"<br>\");\n",
    "      document.write(username.toUpperCase()  + \"<br>\");\n",
    "      document.write(`My name is ${username} and my age is ${age}`);\n",
    "    </script>\n",
    "  </body>\n",
    "</html>"
   ]
  },
  {
   "cell_type": "code",
   "execution_count": null,
   "metadata": {
    "vscode": {
     "languageId": "html"
    }
   },
   "outputs": [],
   "source": [
    "<!-- \n",
    "  Substring in JS\n",
    "  split method\n",
    "  Array\n",
    "  Alert\n",
    " -->\n",
    "\n",
    "<!DOCTYPE html>\n",
    "<html lang=\"en\">\n",
    "  <head>\n",
    "    <meta charset=\"UTF-8\">\n",
    "    <title>Test Java Script</title>\n",
    "  </head>\n",
    "  <body>\n",
    "    <script>\n",
    "      var name = \"Hello World\";\n",
    "      document.write(name.substring(0,5) );\n",
    "      document.write(\"<br>\");\n",
    "      document.write(name.split(\" \"));\n",
    "      document.write(\"<br>\");\n",
    "      \n",
    "      var list_1 = [1, 2, 3, 4, 5];\n",
    "      document.write(list_1);\n",
    "      document.write(\"<br>\");\n",
    "      document.write(list_1[1]);\n",
    "      document.write(\"<br>\");\n",
    "      \n",
    "      alert('Welcome to my website !')\n",
    "    </script>\n",
    "  </body>\n",
    "</html>"
   ]
  },
  {
   "cell_type": "code",
   "execution_count": null,
   "metadata": {
    "vscode": {
     "languageId": "html"
    }
   },
   "outputs": [],
   "source": [
    "<!-- Dom HTML -->\n",
    "\n",
    "<!DOCTYPE html>\n",
    "<html lang=\"en\">\n",
    "  <head>\n",
    "    <meta charset=\"UTF-8\">\n",
    "    <title>Test Java Script</title>\n",
    "  </head>\n",
    "  <body>\n",
    "    <p id=\"text\"></p>\n",
    "    <script>\n",
    "      document.getElementById(\"text\").innerHTML = \"Changed paragraph\";\n",
    "    </script>\n",
    "  </body>\n",
    "</html>"
   ]
  },
  {
   "cell_type": "code",
   "execution_count": null,
   "metadata": {
    "vscode": {
     "languageId": "html"
    }
   },
   "outputs": [],
   "source": [
    "<!-- Making events -->\n",
    "\n",
    "<!DOCTYPE html>\n",
    "<html lang=\"en\">\n",
    "  <head>\n",
    "    <meta charset=\"UTF-8\">\n",
    "    <title>Test Java Script</title>\n",
    "  </head>\n",
    "  <body>\n",
    "    <p id=\"text\">This paragraph will be changed</p>\n",
    "    <script>\n",
    "      document.getElementById(\"text\").onclick = function myfunc() {\n",
    "        document.write(\"This paragraph is changed !\")\n",
    "      };\n",
    "    </script>\n",
    "  </body>\n",
    "</html>"
   ]
  },
  {
   "cell_type": "code",
   "execution_count": null,
   "metadata": {
    "vscode": {
     "languageId": "html"
    }
   },
   "outputs": [],
   "source": [
    "<!-- \n",
    "  Objects creation\n",
    "  Object showing in the console\n",
    "  adding property to the object \n",
    "-->\n",
    "\n",
    "<!DOCTYPE html>\n",
    "<html lang=\"en\">\n",
    "  <head>\n",
    "    <meta charset=\"UTF-8\">\n",
    "    <title>Test Java Script</title>\n",
    "  </head>\n",
    "  <body>\n",
    "    <script>\n",
    "      var person = {\n",
    "        firstname : 'John',\n",
    "        lastname : 'Doe',\n",
    "        age : 21,\n",
    "        hobbies : ['programming', 'music', 'swimming'],\n",
    "        address : {\n",
    "          street : '45 main st',\n",
    "          city : 'San Francisco',\n",
    "        },\n",
    "      };\n",
    "      \n",
    "      console.log(person.address);\n",
    "      console.log(person.hobbies[1]);\n",
    "      \n",
    "      person.email = 'example@example.com';\n",
    "      console.log(person); \n",
    "    </script>\n",
    "  </body>\n",
    "</html>"
   ]
  },
  {
   "cell_type": "code",
   "execution_count": null,
   "metadata": {
    "vscode": {
     "languageId": "html"
    }
   },
   "outputs": [],
   "source": [
    "<!-- \n",
    "  Multi objects in Array \n",
    "  JSON Objects\n",
    "-->\n",
    "\n",
    "<!DOCTYPE html>\n",
    "<html lang=\"en\">\n",
    "  <head>\n",
    "    <meta charset=\"UTF-8\">\n",
    "    <title>Test Java Script</title>\n",
    "  </head>\n",
    "  <body>\n",
    "    <script>\n",
    "      var todo = [\n",
    "        {\n",
    "          id : 1,\n",
    "          txt : \"Go to shcool\",\n",
    "          isdone : true,\n",
    "        },\n",
    "        {\n",
    "          id : 2,\n",
    "          txt : \"Bsiness Meeting\",\n",
    "          isdone : true,\n",
    "        },\n",
    "      ];\n",
    "      \n",
    "      console.log(todo[1].txt);\n",
    "      \n",
    "      var todoJSON = JSON.stringify(todo);\n",
    "      console.log(todoJSON);\n",
    "    </script>\n",
    "  </body>\n",
    "</html> "
   ]
  },
  {
   "cell_type": "code",
   "execution_count": null,
   "metadata": {
    "vscode": {
     "languageId": "html"
    }
   },
   "outputs": [],
   "source": [
    "<!-- \n",
    "  for loop\n",
    "  while loop\n",
    "  for loop with variable\n",
    "  foreach loop \n",
    "  map loop\n",
    "-->\n",
    "\n",
    "<!DOCTYPE html>\n",
    "<html lang=\"en\">\n",
    "  <head>\n",
    "    <meta charset=\"UTF-8\">\n",
    "    <title>Test Java Script</title>\n",
    "  </head>\n",
    "  <body>\n",
    "    <script>\n",
    "      // for loop\n",
    "      for (let i = 1 ; i <= 10 ; i++) {\n",
    "        console.log(i);\n",
    "      };\n",
    "      \n",
    "      // while loop\n",
    "      var j = 1;\n",
    "      while (j <= 10) {\n",
    "        console.log(j*2);\n",
    "        j++;\n",
    "      };\n",
    "      \n",
    "      // for loop with variable\n",
    "      let mylist = [2, 4, 6, 8, 10];\n",
    "      for (var item of mylist) {\n",
    "        console.log(item);\n",
    "      };\n",
    "      \n",
    "      // foreach loop\n",
    "      let MYLIST = [10, 20, 30, 40, 50];\n",
    "      MYLIST.forEach(function(iteem){\n",
    "        console.log(iteem);\n",
    "      });\n",
    "      \n",
    "      // map loop\n",
    "      let List = [100, 200, 300, 400, 500];\n",
    "      var newList = List.map(function(iteeem){\n",
    "        return(iteeem);\n",
    "      });\n",
    "      console.log(newList);\n",
    "    </script>\n",
    "  </body>\n",
    "</html> "
   ]
  },
  {
   "cell_type": "code",
   "execution_count": null,
   "metadata": {
    "vscode": {
     "languageId": "html"
    }
   },
   "outputs": [],
   "source": [
    "<!-- \n",
    "  if else\n",
    "-->\n",
    "\n",
    "<!DOCTYPE html>\n",
    "<html lang=\"en\">\n",
    "  <head>\n",
    "    <meta charset=\"UTF-8\">\n",
    "    <title>Test Java Script</title>\n",
    "  </head>\n",
    "  <body>\n",
    "    <script>\n",
    "      let x = 10;\n",
    "      if(x < 5){\n",
    "        console.log(\"X is not Smaller than 5\");\n",
    "      }\n",
    "      if(x == 5){\n",
    "        console.log(\"X is equal to 5\");\n",
    "      }\n",
    "      else{\n",
    "        console.log(\"X is Greater than 5\")\n",
    "      }\n",
    "    </script>\n",
    "  </body>\n",
    "</html> "
   ]
  },
  {
   "cell_type": "code",
   "execution_count": null,
   "metadata": {
    "vscode": {
     "languageId": "html"
    }
   },
   "outputs": [],
   "source": [
    "<!-- \n",
    "  var\n",
    "  let\n",
    "  const\n",
    "-->\n",
    "\n",
    "<!DOCTYPE html>\n",
    "<html lang=\"en\">\n",
    "  <head>\n",
    "    <meta charset=\"UTF-8\">\n",
    "    <title>Test Java Script</title>\n",
    "  </head>\n",
    "  <body>\n",
    "    <script>\n",
    "      var x = 6; // Global Scope variable\n",
    "      {var x = 5}; // Functional Scope variable \n",
    "      console.log(x); // print 5 \"Overwritten value\"\n",
    "      \n",
    "      let y = 6;  // Global Scope variable\n",
    "      {let y = 5}; // Functional Scope variable\n",
    "      console.log(y); // print 6\n",
    "      \n",
    "      const z = 6; // Global Scope variable\n",
    "      {const z = 5}; // Functional Scope variable\n",
    "      console.log(z); // print 6\n",
    "    </script>\n",
    "  </body>\n",
    "</html> "
   ]
  },
  {
   "cell_type": "code",
   "execution_count": null,
   "metadata": {
    "vscode": {
     "languageId": "html"
    }
   },
   "outputs": [],
   "source": [
    "<!-- \n",
    "  switch and ?\n",
    "-->\n",
    "\n",
    "<!DOCTYPE html>\n",
    "<html lang=\"en\">\n",
    "  <head>\n",
    "    <meta charset=\"UTF-8\">\n",
    "    <title>Test Java Script</title>\n",
    "  </head>\n",
    "  <body>\n",
    "    <script>\n",
    "      let x = 10;\n",
    "      let color = x>10?'yellow':'red'; \n",
    "      // if x > 10 then color is 'yellow' else it is 'red'\n",
    "      console.log(color);\n",
    "      \n",
    "      let name = 'ahmed';\n",
    "      switch (name) {\n",
    "        case 'mohamed': console.log('Name is mohamed');\n",
    "        break;\n",
    "        \n",
    "        case 'ahmed' : console.log('Name is ahmed');\n",
    "        break;\n",
    "        \n",
    "        default : console.log('not found');\n",
    "      }\n",
    "    </script>\n",
    "  </body>\n",
    "</html> "
   ]
  },
  {
   "cell_type": "code",
   "execution_count": null,
   "metadata": {
    "vscode": {
     "languageId": "html"
    }
   },
   "outputs": [],
   "source": [
    "<!-- \n",
    "  functions\n",
    "  Arrow functions\n",
    "-->\n",
    "\n",
    "<!DOCTYPE html>\n",
    "<html lang=\"en\">\n",
    "  <head>\n",
    "    <meta charset=\"UTF-8\">\n",
    "    <title>Test Java Script</title>\n",
    "  </head>\n",
    "  <body>\n",
    "    <script>\n",
    "      function adding(a, b){\n",
    "        return a + b;\n",
    "      }\n",
    "      console.log(adding(30, 2));\n",
    "      \n",
    "      \n",
    "      var my_func = (int_1, int_2) => {\n",
    "        return int_1 + int_2;\n",
    "      }\n",
    "      console.log(my_func(5, 2));\n",
    "    </script>\n",
    "  </body>\n",
    "</html> "
   ]
  },
  {
   "cell_type": "code",
   "execution_count": null,
   "metadata": {
    "vscode": {
     "languageId": "html"
    }
   },
   "outputs": [],
   "source": [
    "<!-- \n",
    "  Events\n",
    "  onclick\n",
    "  onload\n",
    "  onchange\n",
    "-->\n",
    "\n",
    "<!DOCTYPE html>\n",
    "<html lang=\"en\">\n",
    "  <head>\n",
    "    <meta charset=\"UTF-8\">\n",
    "    <title>Test Java Script</title>\n",
    "  </head>\n",
    "  <body onload=\"displayDate()\">\n",
    "    <p id=\"txt\"></p>\n",
    "    <button onclick=\"displayDate()\">click here</button>\n",
    "    \n",
    "    <input type=\"text\" onchange=\"displayDate()\">\n",
    "    <script>\n",
    "      function displayDate() {\n",
    "        document.getElementById(\"txt\").innerHTML = Date();\n",
    "      }\n",
    "    </script>\n",
    "  </body>\n",
    "</html> "
   ]
  },
  {
   "cell_type": "code",
   "execution_count": null,
   "metadata": {
    "vscode": {
     "languageId": "html"
    }
   },
   "outputs": [],
   "source": [
    "<!DOCTYPE html>\n",
    "<html lang=\"en\">\n",
    "  <head>\n",
    "    <meta charset=\"UTF-8\">\n",
    "    <title>Test Java Script</title>\n",
    "  </head>\n",
    "  <body>\n",
    "    <p id=\"txt\"></p>\n",
    "    <script>\n",
    "      console.log(15e6); // 15 Million\n",
    "      console.log(15000000);\n",
    "      \n",
    "      document.getElementById('txt').innerHTML = Math.floor(Math.random()*10); \n",
    "    </script>\n",
    "  </body>\n",
    "</html> "
   ]
  }
 ],
 "metadata": {
  "language_info": {
   "name": "python"
  }
 },
 "nbformat": 4,
 "nbformat_minor": 2
}
