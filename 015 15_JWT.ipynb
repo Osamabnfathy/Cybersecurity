{
 "cells": [
  {
   "cell_type": "markdown",
   "metadata": {},
   "source": [
    "--------------------------------------------------------------------------------------------\n",
    "                        # JSON Web Tokens (JWT)                                             "
   ]
  },
  {
   "cell_type": "markdown",
   "metadata": {},
   "source": [
    "# Resources:\n",
    "\n",
    ">> labs:  \n",
    "   - https://portswigger.net/web-security/jwt\n",
    "  \n",
    ">> Video:\n",
    "   - https://www.youtube.com/watch?v=DDqfdH-2ULI&list=PLTSGZiCtCBfMMLkmaN7tGEhbc0QbOEtEA&index=36&pp=iAQB\n",
    "   - https://www.youtube.com/watch?v=2pZnezSBO3k&list=PLTSGZiCtCBfMMLkmaN7tGEhbc0QbOEtEA&index=37&pp=iAQB"
   ]
  },
  {
   "cell_type": "markdown",
   "metadata": {},
   "source": [
    ">> What are JWTs?\n",
    "   - JSON web tokens (JWTs) are a standardized format for sending cryptographically signed JSON data between systems. \n",
    "   - The JWT spec is extended by both the JSON Web Signature (JWS) and JSON Web Encryption (JWE) specifications, which define concrete ways of actually implementing JWTs.\n",
    "   \n",
    ">> JWT format:\n",
    "   - A JWT consists of 3 parts: a header, a payload, and a signature. These are each separated by a dot\n",
    "   - The header and payload parts of a JWT are just base64url-encoded JSON objects.\n",
    "   - The header contains metadata about the token itself\n",
    "   - payload contains the actual \"claims\" about the user.\n",
    "   \n",
    ">> What are JWT attacks?\n",
    "   - JWT attacks involve a user sending modified JWTs to the server in order to achieve a malicious goal."
   ]
  },
  {
   "cell_type": "markdown",
   "metadata": {},
   "source": [
    "# Lab-1: JWT authentication bypass via unverified signature:\n",
    "\n",
    "- Log in with (wiener:peter)\n",
    "- In Burp Suite Extensions BApp Store add the *JWT Editor* extension\n",
    "- In Burp Suite intercept the login request and send it to the Repeater\n",
    "- Change the path to */admin* then\n",
    "- Open the *JSON Web Token* tab \n",
    "- Change the *\"sub\": \"wiener\"* to *\"sub\": \"administrator\"*\n",
    "- Now to delete the carlos user change the path to */admin/delete?username=carlos*"
   ]
  },
  {
   "cell_type": "markdown",
   "metadata": {},
   "source": [
    "# Lab-2: JWT authentication bypass via flawed signature verification:\n",
    "\n",
    "- Log in with (wiener:peter)\n",
    "- In Burp Suite intercept the login request and send it to the Repeater\n",
    "- Change the path to */admin* then\n",
    "- Open the *JSON Web Token* tab \n",
    "- Change the *\"sub\": \"wiener\"* to *\"sub\": \"administrator\"*\n",
    "- Press the *Attack* butten and choose the *\"none\" SigningAlgorithm* then send\n",
    "- Now to delete the carlos user change the path to */admin/delete?username=carlos*"
   ]
  },
  {
   "cell_type": "markdown",
   "metadata": {},
   "source": [
    "# Lab-3: JWT authentication bypass via weak signing key:\n",
    "\n",
    "- Log in with (wiener:peter)\n",
    "- In Burp Suite intercept the login request and send it to the Repeater\n",
    "- Change the path to */admin* then\n",
    "- Open the *JSON Web Token* tab \n",
    "- Change the *\"sub\": \"wiener\"* to *\"sub\": \"administrator\"* then send\n",
    "- Agian by Pressing the *Attack* butten and choose the *\"none\" SigningAlgorithm* then send\n",
    "- Now back to the original request and copy the *JWT cookie* then make a file with it\n",
    "- Open the terminal *john jwt.txt jwt.secrets.list* to crack the signing key\n",
    "- Copy the *Cracked key* then Encode it as *Base64*\n",
    "- By the JWT Editor make a new symmetric key and change the value of *\"k\"* by the encoded value\n",
    "- On Repeater tab open the JWT tab and sign the key\n",
    "- Now to delete the carlos user change the path to */admin/delete?username=carlos*"
   ]
  },
  {
   "cell_type": "markdown",
   "metadata": {},
   "source": [
    "# Lab-4: JWT authentication bypass via jwk header injection:\n",
    "\n",
    "- Log in with (wiener:peter)\n",
    "- In Burp Suite intercept the login request and send it to the Repeater\n",
    "- Change the path to */admin* then\n",
    "- Open the *JSON Web Token* tab \n",
    "- Change the *\"sub\": \"wiener\"* to *\"sub\": \"administrator\"*\n",
    "- By the JWT Editor make a new *RSA key*\n",
    "- In the *Repeater* then *JSON Web Token* tab press *Attack* then *Embedded JWT*\n",
    "- Now to delete the carlos user change the path to */admin/delete?username=carlos*"
   ]
  }
 ],
 "metadata": {
  "language_info": {
   "name": "python"
  }
 },
 "nbformat": 4,
 "nbformat_minor": 2
}
