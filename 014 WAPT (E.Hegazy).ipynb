{
 "cells": [
  {
   "cell_type": "markdown",
   "metadata": {},
   "source": [
    "# Linux Command Line:\n",
    "\n",
    ">> System Commands:\n",
    "   - (apt-get update) > update the kali machine\n",
    "   - (apt-get upgrade) > change old packages with new versions\n",
    "   - (apt-cache search \"Package_name\") > search for package in the apt-get\n",
    "   - (apt-get install \"Package_name\") > install package\n",
    "   - (apt-get autoremove \"Package_name\") > Delete package\n",
    "  \n",
    "\n",
    ">> Search Commands:\n",
    "   - (locate \"file_name\") > search for file in all dires\n",
    "   - (find / -name \"file_name\") > search for file in all dires\n",
    "   - (find /Path_wanted -name \"file_name\") > search for file in specific dire\n",
    "\n",
    "\n",
    ">> Request Pages Commands:\n",
    "   - (curl page_url) > display the page index\n",
    "   - (curl -X\"METHOUD\" page_url) \n",
    "   - (wget page_url) > download the page index\n",
    "   - (wget page_url -O \"name\") > download the page index with wanted name\n",
    "   \n",
    "   \n",
    ">> Search in files and commands:\n",
    "   - (ifconfig | grep -i \"inet\") > get \"inet\" word only from the output\n",
    "   - (ifconfig | grep -i \"inet\" | cut -d \":\" -f 1) > cut the \"inet\" output sentence before and after the \":\" sign and display the first part\n",
    "   - (ifconfig | grep -i \"inet\" | cut -d \":\" -f 2) > cut the \"inet\" output sentence before and after the \":\" sign and display the second part\n",
    "   - (curl yahoo.com | grep -i -o \"[a-z0-9]*.yahoo.com\") > get the index of yahoo page then display only any line contains (digits, nums.yahoo.com)\n",
    "   - (curl yahoo.com | grep -i -o \"[a-z0-9]*.yahoo.com\" | sort -u) > same as above but display unique \"not repeated\"\n",
    "   - (curl yahoo.com | grep -i -o \"[a-z0-9]*.yahoo.com\" | sort -u | tee yahoo.txt) > same as above with displaying the result ant put it in a yahoo.txt file\n",
    "   \n",
    "\n",
    ">> Run more than one command in one line:\n",
    "   - (Command_1;Command_2)\n",
    "   - (Command_1&&Command_2)\n",
    "   \n",
    "\n",
    ">> Display data from file:\n",
    "   - (head -n num file_name) > display first num of lines from that file\n",
    "   - (tail -n num file_name) > display last num of lines from that file\n",
    "   - (tail -f /var/log/apache2/access.log) > real time show for the access log\n",
    "   - (tail -f /var/log/apache2/error.log) > real time show for the error log\n",
    "   \n",
    "\n",
    ">> Search in DNS Servers:\n",
    "   - (dig @DNS_IP MX URL) > search for mail servers of the URL\n",
    "   - (dig @DNS_IP A URL) > search for IPv4 of the URL"
   ]
  },
  {
   "cell_type": "markdown",
   "metadata": {},
   "source": [
    ">> Encryption, Encoding, and Hashing:\n",
    "   - Hashing \"Integrity Check\":\n",
    "     - Irreversiivle mathematical function that converts user input into a fixed size output\n",
    "     - (md5 - sha1 - sha2)\n",
    "     \n",
    "   - Encryption \"Authentication and Authorization\":\n",
    "     - Converting human readable data into ciphertext\n",
    "     - Symmetric \"uses the same kay to encrypt and decrypt\"\n",
    "       - (AES - DES - 3DES - TwoFish - BlowFish)\n",
    "     - Asymmetric \"uses publick key for encryption and private kay for decryption\"\n",
    "       - (RSA - DH - DSA - ECDH)\n",
    "     \n",
    "   - Encoding: \n",
    "     - The purpose is to transform data so that it can be properly consumed by a different type of system\n",
    "     - (base64 - rot13 - Hex - URL)"
   ]
  },
  {
   "cell_type": "markdown",
   "metadata": {},
   "source": [
    ">> NMap Basics:\n",
    "   - (nmap -sT -sU IP_addr) > search in first 1000 for open UDP and TCP Ports \n",
    "   - (nmap --top-ports 2000 IP_addr) > search in 2000 famous ports\n",
    "   - (nmap -p Port_num -A IP_addr) > search for specific port with more information\n",
    "   - (nmap -p Port_num-Port_num IP_addr) > search for range of ports\n",
    "   - (nmap IP_addr --script=Script_name --oA Name) > to applay script and save the output in the \"Name\" file "
   ]
  },
  {
   "cell_type": "markdown",
   "metadata": {},
   "source": [
    ">> Cross Site Scripting \"XSS\":\n",
    "   - First to check if there is XSS vuln type (xx\">xX) in the input field\n",
    "   - XSS Payloads are \n",
    "     - (<script>alert(1)</script>)\n",
    "     - (<script>confirm(1)</script>)\n",
    "     - (<script>prompt(1)</script>)\n",
    "     - (<img src=x onerror=alert(1)>)\n",
    "     - (test<svg/onload=confirm(1)>)"
   ]
  },
  {
   "cell_type": "markdown",
   "metadata": {},
   "source": [
    ">> Same origin Policy \"SOP\":\n",
    "   - Mean to read the response of a page on another page\n",
    "   - with 3 conditions \"Same Protocol - Same Port - Same Host\"\n",
    "   - if you have \"http://store.company.com/dir/page.html\" then:\n",
    "     - \"http://store.company.com/dir2/other.html\" > will succeed\n",
    "     - \"http://store.company.com/dir/inner/anther.html\" > will succeed\n",
    "     - \"https://store.company.com/secure.html\" > Failure different Protocol\n",
    "     - \"http://store.company.com:81/dir/etc.html\" > Failure different Port \n",
    "     - \"http://news.company.com/dir/other.html\" > Failure different Host \n",
    "     \n",
    "\n",
    ">> Cross Origin Resource Sharing \"CORS\":\n",
    "   - Is a response header that allows Cross Origin requests\n",
    "   - Give exception for reading the response \n",
    "   \n",
    "\n",
    ">> Content Security Policy \"CSP\":\n",
    "   - Controls which hostname is able to execute JS, Fonts, CSS, and Images on the target server"
   ]
  },
  {
   "cell_type": "markdown",
   "metadata": {},
   "source": [
    ">> URL, Hostname, Domain name, Subdomain, and Top-Level Domain \"TLD\":\n",
    "   - URL EX (http://www.youtube.com/watch?v=QhcwLyyEjOA)\n",
    "     - Protocol               (HTTP)\n",
    "     - Hostname               (www.youtube.com)\n",
    "     - Domain name            (youtube.com)\n",
    "     - Subdomain              (www)\n",
    "     - Top-Level Domain \"TLD\" (.com)\n",
    "     - File name Path         (/watch)\n",
    "     - Parameter and Value    (v= QhcwLyyEjOA)"
   ]
  },
  {
   "cell_type": "markdown",
   "metadata": {},
   "source": [
    "# Bug Bounty Hunting:\n",
    "\n",
    ">> Information Gathering \"Recon\":\n",
    "   - Subdomain Enumeration (Sublist3r)\n",
    "   - Domain Monitoring     (sublert)\n",
    "   - Search in GitHub      (gitGraber)\n",
    "   - shodan.io\n",
    "   - Internet Archive      (way back machine)\n",
    "   - Browser Plugins       (Wappalyzer - FlagFox)\n",
    "   - LazyRecon\n",
    "   \n",
    "   \n",
    ">> Scanning:\n",
    "   - Nmap with -A option\n",
    "   - Nmap with -auth -http-enum scripts\n",
    "   - AWS buckets (S#Scanner)\n",
    "   - XSS hunter\n",
    "   - (https://web.archive.org/cdx/search/cdx?url=*.corp.google.com&output=text&fl=original&collapse=urlkey)"
   ]
  },
  {
   "cell_type": "markdown",
   "metadata": {},
   "source": []
  }
 ],
 "metadata": {
  "language_info": {
   "name": "python"
  }
 },
 "nbformat": 4,
 "nbformat_minor": 2
}
