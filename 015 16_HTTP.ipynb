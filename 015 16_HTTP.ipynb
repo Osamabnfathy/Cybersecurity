{
 "cells": [
  {
   "cell_type": "markdown",
   "metadata": {},
   "source": [
    "--------------------------------------------------------------------------------------------\n",
    "                        # HTTP Request Smuggling                                            "
   ]
  },
  {
   "cell_type": "markdown",
   "metadata": {},
   "source": [
    "# Resources:\n",
    "\n",
    ">> labs:  \n",
    "   - https://portswigger.net/web-security/request-smuggling\n",
    "  \n",
    ">> Video:\n",
    "   - https://www.youtube.com/watch?v=EuSLY58k4G4&list=PLTSGZiCtCBfMMLkmaN7tGEhbc0QbOEtEA&index=38&pp=iAQB\n",
    "   - https://www.youtube.com/watch?v=P39KURmEbD0&list=PLTSGZiCtCBfMMLkmaN7tGEhbc0QbOEtEA&index=39&pp=iAQB"
   ]
  },
  {
   "cell_type": "markdown",
   "metadata": {},
   "source": [
    ">> What is HTTP request smuggling?\n",
    "   - HTTP request smuggling is a technique for interfering with the way a web site processes sequences of HTTP requests that are received from one or more users.\n",
    "   -  Request smuggling vulnerabilities are often critical in nature, allowing an attacker to bypass security controls, gain unauthorized access to sensitive data, and directly compromise other application users.\n",
    "   \n",
    ">> How do HTTP request smuggling vulnerabilities arise?\n",
    "   - Most HTTP request smuggling vulnerabilities arise because the HTTP/1 specification provides two different ways to specify where a request ends: the Content-Length header and the Transfer-Encoding header.\n",
    "   \n",
    ">> How to perform an HTTP request smuggling attack\n",
    "   - Classic request smuggling attacks involve placing both the Content-Length header and the Transfer-Encoding header into a single HTTP/1 request and manipulating these so that the front-end and back-end servers process the request differently. "
   ]
  }
 ],
 "metadata": {
  "language_info": {
   "name": "python"
  }
 },
 "nbformat": 4,
 "nbformat_minor": 2
}
