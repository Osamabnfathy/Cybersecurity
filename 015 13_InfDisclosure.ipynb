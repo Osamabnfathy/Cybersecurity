{
 "cells": [
  {
   "cell_type": "markdown",
   "metadata": {},
   "source": [
    "--------------------------------------------------------------------------------------------\n",
    "                            # Information Disclosure                                     "
   ]
  },
  {
   "cell_type": "markdown",
   "metadata": {},
   "source": [
    "# Resources:\n",
    "\n",
    ">> labs:  \n",
    "   - https://portswigger.net/web-security/information-disclosure\n",
    "   \n",
    ">> Video:\n",
    "   - https://www.youtube.com/watch?v=Jzp9xuha-jQ&list=PLTSGZiCtCBfMMLkmaN7tGEhbc0QbOEtEA&index=32&pp=iAQB"
   ]
  },
  {
   "cell_type": "markdown",
   "metadata": {},
   "source": [
    ">> What is information disclosure?\n",
    "   - Information disclosure, also known as information leakage, is when a website unintentionally reveals sensitive information to its users.\n",
    "   \n",
    ">> How do information disclosure vulnerabilities arise?\n",
    "   - Failure to remove internal content from public content. \n",
    "   - Insecure configuration of the website and related technologies. \n",
    "   - Flawed design and behavior of the application.\n",
    "   \n",
    ">> Common sources of information disclosure:\n",
    "   - Many websites provide files at */robots.txt* and */sitemap.xml* to help crawlers navigate their site.\n",
    "   - Directory listings; Web servers can be configured to automatically list the contents of directories that do not have an index page present.\n",
    "   - Developer comments\n",
    "   - Verbose error messages\n",
    "   - Debugging data contains:\n",
    "     - Values for key session variables that can be manipulated via user input\n",
    "     - Hostnames and credentials for back-end components\n",
    "     - File and directory names on the server\n",
    "     - Keys used to encrypt data transmitted via the client\n"
   ]
  },
  {
   "cell_type": "markdown",
   "metadata": {},
   "source": [
    "# Lab-1: Information disclosure in error messages:\n",
    "\n",
    "- Open any product\n",
    "- In the URL change the *productid=1* to any *str* like *productid=x*\n",
    "- Copy the *Server Version* and submit it to solve the lab"
   ]
  },
  {
   "cell_type": "markdown",
   "metadata": {},
   "source": [
    "# Lab-2: Lab: Information disclosure on debug page:\n",
    "\n",
    "- Open the Page Source of the lab\n",
    "- Scroll down you'll see a path to a *PHP-info* file\n",
    "- Back to the Lab page and add the file name to the url as *URL/cgi-bin/phpinfo.php*\n",
    "- Ctrl+F and search for *KEY*\n",
    "- Copy and submit to solve the lab"
   ]
  },
  {
   "cell_type": "markdown",
   "metadata": {},
   "source": [
    "# Lab-3: Source code disclosure via backup files:\n",
    "\n",
    "- open the */robots.txt* dire to know if there are any hidden dires.\n",
    "- Go to */backup*\n",
    "- Open the file in the backup directory\n",
    "- Copy the DB password written in *ConnectionBuilder* function"
   ]
  },
  {
   "cell_type": "markdown",
   "metadata": {},
   "source": [
    "# Lab-4: Authentication bypass via information disclosure:\n",
    "\n",
    "- Login with (wiener:peter)\n",
    "- Intercept the request and send it to the Repeater\n",
    "- Try to change the Reques Method to retrieve some data\n",
    "- The method *TRACE* is enabled and show that there is an Authorization header is added\n",
    "- The Authorization header is *X-Custome-Ip-Authorization: your_ip*\n",
    "- Change the IP address with the Local host *X-Custome-Ip-Authorization: 127.0.0.1* and send\n",
    "- You'll see that the *Admin panel* has been shown to you\n",
    "- Change the request to *GET /admin/delete?username=carlos* with adding the last header"
   ]
  },
  {
   "cell_type": "markdown",
   "metadata": {},
   "source": [
    "# Lab-5: Information disclosure in version control history:\n",
    "\n",
    "- Open */.git* to see the files\n",
    "- Then download it in your kali by *wget -r Page-URL* then open it with any editor\n",
    "- Open the downloaded folder by *VS Code* or *Git Cola*\n",
    "- With *VS Code* in the left select the git sign and see the *admin.conf* file\n",
    "- With *git cola* open the file and in the *commit list* choose *undo last commit*\n",
    "- Copy the password from the *admin.conf* file and login with it\n",
    "- Delete the carlos user"
   ]
  }
 ],
 "metadata": {
  "language_info": {
   "name": "python"
  }
 },
 "nbformat": 4,
 "nbformat_minor": 2
}
